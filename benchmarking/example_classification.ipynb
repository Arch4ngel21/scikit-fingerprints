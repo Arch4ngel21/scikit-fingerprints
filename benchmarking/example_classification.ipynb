{
 "cells": [
  {
   "cell_type": "code",
   "execution_count": 1,
   "id": "initial_id",
   "metadata": {
    "collapsed": true,
    "ExecuteTime": {
     "end_time": "2023-11-30T15:37:21.530242Z",
     "start_time": "2023-11-30T15:37:19.182238100Z"
    }
   },
   "outputs": [],
   "source": [
    "import pandas as pd\n",
    "from ogb.graphproppred import GraphPropPredDataset\n",
    "from sklearn.ensemble import RandomForestClassifier\n",
    "from sklearn.linear_model import LogisticRegression\n",
    "from sklearn.metrics import roc_auc_score\n",
    "from sklearn.model_selection import train_test_split\n",
    "from sklearn.pipeline import Pipeline\n",
    "import lightgbm as lgb"
   ]
  },
  {
   "cell_type": "code",
   "execution_count": 2,
   "outputs": [],
   "source": [
    "from featurizers.fingerprints import (\n",
    "    MHFP,\n",
    "    AtomPairFingerprint,\n",
    "    ERGFingerprint,\n",
    "    MACCSKeysFingerprint,\n",
    "    MAP4Fingerprint,\n",
    "    MorganFingerprint,\n",
    "    TopologicalTorsionFingerprint,\n",
    ")"
   ],
   "metadata": {
    "collapsed": false,
    "ExecuteTime": {
     "end_time": "2023-11-30T15:37:21.625242300Z",
     "start_time": "2023-11-30T15:37:21.533242800Z"
    }
   },
   "id": "7fbf186106f95e34"
  },
  {
   "cell_type": "markdown",
   "source": [
    "### Data preparation"
   ],
   "metadata": {
    "collapsed": false
   },
   "id": "ca4e51ae79be4b82"
  },
  {
   "cell_type": "code",
   "execution_count": 3,
   "outputs": [],
   "source": [
    "dataset_name = \"ogbg-molhiv\"\n",
    "GraphPropPredDataset(name=dataset_name, root=\"../dataset\")\n",
    "dataset = pd.read_csv(\n",
    "    f\"../dataset/{'_'.join(dataset_name.split('-'))}/mapping/mol.csv.gz\"\n",
    ")"
   ],
   "metadata": {
    "collapsed": false,
    "ExecuteTime": {
     "end_time": "2023-11-30T15:37:21.960243400Z",
     "start_time": "2023-11-30T15:37:21.627242400Z"
    }
   },
   "id": "46770d57391111e3"
  },
  {
   "cell_type": "code",
   "execution_count": 4,
   "outputs": [],
   "source": [
    "X = dataset[\"smiles\"]\n",
    "y = dataset[\"HIV_active\"]"
   ],
   "metadata": {
    "collapsed": false,
    "ExecuteTime": {
     "end_time": "2023-11-30T15:37:21.975243500Z",
     "start_time": "2023-11-30T15:37:21.960243400Z"
    }
   },
   "id": "62ab7c70024a7e94"
  },
  {
   "cell_type": "code",
   "execution_count": 5,
   "outputs": [
    {
     "data": {
      "text/plain": "41127"
     },
     "execution_count": 5,
     "metadata": {},
     "output_type": "execute_result"
    }
   ],
   "source": [
    "n_molecules = X.shape[0]\n",
    "n_molecules"
   ],
   "metadata": {
    "collapsed": false,
    "ExecuteTime": {
     "end_time": "2023-11-30T15:37:22.038242700Z",
     "start_time": "2023-11-30T15:37:21.976242Z"
    }
   },
   "id": "ba249de33169ff4f"
  },
  {
   "cell_type": "code",
   "execution_count": 6,
   "outputs": [],
   "source": [
    "X_train, X_test, y_train, y_test = (\n",
    "train_test_split(X, y, test_size=0.2, random_state=42, shuffle=True))"
   ],
   "metadata": {
    "collapsed": false,
    "ExecuteTime": {
     "end_time": "2023-11-30T15:37:22.072243800Z",
     "start_time": "2023-11-30T15:37:21.993242600Z"
    }
   },
   "id": "ae01f42ea252b218"
  },
  {
   "cell_type": "markdown",
   "source": [
    "## Mogan Fingerprint"
   ],
   "metadata": {
    "collapsed": false
   },
   "id": "8249195f1ff879c4"
  },
  {
   "cell_type": "code",
   "execution_count": 7,
   "outputs": [
    {
     "name": "stdout",
     "output_type": "stream",
     "text": [
      "ROC AUC score for Random Forest       : 0.8312466320411838\n",
      "ROC AUC score for Logistic Regression : 0.7697658045116741\n",
      "ROC AUC score for LGBM                : 0.8068905305631249\n"
     ]
    }
   ],
   "source": [
    "RF_clf = Pipeline([(\"FingerprintEncoder\",MorganFingerprint(n_jobs=-1, radius = 3)),(\"RandomForest\",RandomForestClassifier(random_state=42,n_jobs=-1))])\n",
    "RF_clf.fit(X_train, y_train)\n",
    "print(\"ROC AUC score for Random Forest       : \",end=\"\")\n",
    "print(roc_auc_score(y_test, RF_clf.predict_proba(X_test)[:, 1]))\n",
    "\n",
    "LogReg_clf = Pipeline([(\"FingerprintEncoder\",MorganFingerprint(n_jobs=-1, radius = 3)),(\"LogReg\",LogisticRegression(class_weight=\"balanced\", penalty=None,n_jobs=-1))])\n",
    "LogReg_clf.fit(X_train, y_train)\n",
    "print(\"ROC AUC score for Logistic Regression : \",end=\"\")\n",
    "print(roc_auc_score(y_test, LogReg_clf.predict_proba(X_test)[:, 1]))\n",
    "\n",
    "LGBM_clf = Pipeline([(\"FingerprintEncoder\",MorganFingerprint(n_jobs=-1, radius = 3)),(\"LGBM\",lgb.LGBMClassifier(random_state=42,n_jobs=-1,verbose=0))])\n",
    "LGBM_clf.fit(X_train, y_train)\n",
    "print(\"ROC AUC score for LGBM                : \",end=\"\")\n",
    "print(roc_auc_score(y_test, LGBM_clf.predict_proba(X_test)[:, 1]))"
   ],
   "metadata": {
    "collapsed": false,
    "ExecuteTime": {
     "end_time": "2023-11-30T15:37:53.567856200Z",
     "start_time": "2023-11-30T15:37:22.012243700Z"
    }
   },
   "id": "4d842e8d65773765"
  },
  {
   "cell_type": "markdown",
   "source": [
    "## Atom Pair Fingerprint"
   ],
   "metadata": {
    "collapsed": false
   },
   "id": "1676791b93048f9b"
  },
  {
   "cell_type": "code",
   "execution_count": 8,
   "outputs": [
    {
     "name": "stdout",
     "output_type": "stream",
     "text": [
      "ROC AUC score for Random Forest       : 0.8163811147163397\n",
      "ROC AUC score for Logistic Regression : 0.7398982467717491\n",
      "ROC AUC score for LGBM                : 0.8174743610485823\n"
     ]
    }
   ],
   "source": [
    "RF_clf = Pipeline([(\"FingerprintEncoder\",AtomPairFingerprint(n_jobs=-1)),(\"RandomForest\",RandomForestClassifier(random_state=42,n_jobs=-1))])\n",
    "RF_clf.fit(X_train, y_train)\n",
    "print(\"ROC AUC score for Random Forest       : \",end=\"\")\n",
    "print(roc_auc_score(y_test, RF_clf.predict_proba(X_test)[:, 1]))\n",
    "\n",
    "LogReg_clf = Pipeline([(\"FingerprintEncoder\",AtomPairFingerprint(n_jobs=-1)),(\"LogReg\",LogisticRegression(class_weight=\"balanced\", penalty=None,n_jobs=-1))])\n",
    "LogReg_clf.fit(X_train, y_train)\n",
    "print(\"ROC AUC score for Logistic Regression : \",end=\"\")\n",
    "print(roc_auc_score(y_test, LogReg_clf.predict_proba(X_test)[:, 1]))\n",
    "\n",
    "\n",
    "LGBM_clf = Pipeline([(\"FingerprintEncoder\",AtomPairFingerprint(n_jobs=-1)),(\"LGBM\",lgb.LGBMClassifier(random_state=42,n_jobs=-1,verbose=0))])\n",
    "LGBM_clf.fit(X_train, y_train)\n",
    "print(\"ROC AUC score for LGBM                : \",end=\"\")\n",
    "print(roc_auc_score(y_test, LGBM_clf.predict_proba(X_test)[:, 1]))"
   ],
   "metadata": {
    "collapsed": false,
    "ExecuteTime": {
     "end_time": "2023-11-30T15:38:19.723383600Z",
     "start_time": "2023-11-30T15:37:53.554855700Z"
    }
   },
   "id": "1f8cf3fd44a9f9c5"
  },
  {
   "cell_type": "markdown",
   "source": [
    "## Topological Torsion Fingerprint"
   ],
   "metadata": {
    "collapsed": false
   },
   "id": "22833bfa6f74870d"
  },
  {
   "cell_type": "code",
   "execution_count": 9,
   "outputs": [
    {
     "name": "stdout",
     "output_type": "stream",
     "text": [
      "ROC AUC score for Random Forest       : 0.8364287767743437\n",
      "ROC AUC score for Logistic Regression : 0.7664591006122096\n",
      "ROC AUC score for LGBM                : 0.8347883764708081\n"
     ]
    }
   ],
   "source": [
    "RF_clf = Pipeline([(\"FingerprintEncoder\",TopologicalTorsionFingerprint(n_jobs=-1)),(\"RandomForest\",RandomForestClassifier(random_state=42,n_jobs=-1))])\n",
    "RF_clf.fit(X_train, y_train)\n",
    "print(\"ROC AUC score for Random Forest       : \",end=\"\")\n",
    "print(roc_auc_score(y_test, RF_clf.predict_proba(X_test)[:, 1]))\n",
    "\n",
    "LogReg_clf = Pipeline([(\"FingerprintEncoder\",TopologicalTorsionFingerprint(n_jobs=-1)),(\"LogReg\",LogisticRegression(class_weight=\"balanced\", penalty=None,n_jobs=-1))])\n",
    "LogReg_clf.fit(X_train, y_train)\n",
    "print(\"ROC AUC score for Logistic Regression : \",end=\"\")\n",
    "print(roc_auc_score(y_test, LogReg_clf.predict_proba(X_test)[:, 1]))\n",
    "\n",
    "\n",
    "LGBM_clf = Pipeline([(\"FingerprintEncoder\",TopologicalTorsionFingerprint(n_jobs=-1)),(\"LGBM\",lgb.LGBMClassifier(random_state=42,n_jobs=-1,verbose=0))])\n",
    "LGBM_clf.fit(X_train, y_train)\n",
    "print(\"ROC AUC score for LGBM                : \",end=\"\")\n",
    "print(roc_auc_score(y_test, LGBM_clf.predict_proba(X_test)[:, 1]))"
   ],
   "metadata": {
    "collapsed": false,
    "ExecuteTime": {
     "end_time": "2023-11-30T15:38:49.665107100Z",
     "start_time": "2023-11-30T15:38:19.723383600Z"
    }
   },
   "id": "79f054bac563d27d"
  },
  {
   "cell_type": "markdown",
   "source": [
    "## MACCS Keys Fingerprint"
   ],
   "metadata": {
    "collapsed": false
   },
   "id": "88d2363f6e08ce34"
  },
  {
   "cell_type": "code",
   "execution_count": 10,
   "outputs": [
    {
     "name": "stdout",
     "output_type": "stream",
     "text": [
      "ROC AUC score for Random Forest       : 0.8071400089939629\n",
      "ROC AUC score for Logistic Regression : 0.756602685534455\n",
      "ROC AUC score for LGBM                : 0.8286703160583851\n"
     ]
    }
   ],
   "source": [
    "RF_clf = Pipeline([(\"FingerprintEncoder\",MACCSKeysFingerprint(n_jobs=-1)),(\"RandomForest\",RandomForestClassifier(random_state=42,n_jobs=-1))])\n",
    "RF_clf.fit(X_train, y_train)\n",
    "print(\"ROC AUC score for Random Forest       : \",end=\"\")\n",
    "print(roc_auc_score(y_test, RF_clf.predict_proba(X_test)[:, 1]))\n",
    "\n",
    "LogReg_clf = Pipeline([(\"FingerprintEncoder\",MACCSKeysFingerprint(n_jobs=-1)),(\"LogReg\",LogisticRegression(class_weight=\"balanced\", penalty=None,n_jobs=-1))])\n",
    "LogReg_clf.fit(X_train, y_train)\n",
    "print(\"ROC AUC score for Logistic Regression : \",end=\"\")\n",
    "print(roc_auc_score(y_test, LogReg_clf.predict_proba(X_test)[:, 1]))\n",
    "\n",
    "\n",
    "LGBM_clf = Pipeline([(\"FingerprintEncoder\",MACCSKeysFingerprint(n_jobs=-1)),(\"LGBM\",lgb.LGBMClassifier(random_state=42,n_jobs=-1,verbose=0))])\n",
    "LGBM_clf.fit(X_train, y_train)\n",
    "print(\"ROC AUC score for LGBM                : \",end=\"\")\n",
    "print(roc_auc_score(y_test, LGBM_clf.predict_proba(X_test)[:, 1]))"
   ],
   "metadata": {
    "collapsed": false,
    "ExecuteTime": {
     "end_time": "2023-11-30T15:39:17.976176300Z",
     "start_time": "2023-11-30T15:38:49.656106800Z"
    }
   },
   "id": "b5140e6e9e457fee"
  },
  {
   "cell_type": "markdown",
   "source": [
    "## ERG Fingerprint"
   ],
   "metadata": {
    "collapsed": false
   },
   "id": "e58f9c855e8d28b9"
  },
  {
   "cell_type": "code",
   "execution_count": 11,
   "outputs": [
    {
     "name": "stdout",
     "output_type": "stream",
     "text": [
      "ROC AUC score for Random Forest       : 0.79627973517493\n",
      "ROC AUC score for Logistic Regression : 0.7451256161055633\n",
      "ROC AUC score for LGBM                : 0.8028245629456375\n"
     ]
    }
   ],
   "source": [
    "RF_clf = Pipeline([(\"FingerprintEncoder\",ERGFingerprint(n_jobs=-1)),(\"RandomForest\",RandomForestClassifier(random_state=42,n_jobs=-1))])\n",
    "RF_clf.fit(X_train, y_train)\n",
    "print(\"ROC AUC score for Random Forest       : \",end=\"\")\n",
    "print(roc_auc_score(y_test, RF_clf.predict_proba(X_test)[:, 1]))\n",
    "\n",
    "LogReg_clf = Pipeline([(\"FingerprintEncoder\",ERGFingerprint(n_jobs=-1)),(\"LogReg\",LogisticRegression(class_weight=\"balanced\", penalty=None,n_jobs=-1))])\n",
    "LogReg_clf.fit(X_train, y_train)\n",
    "print(\"ROC AUC score for Logistic Regression : \",end=\"\")\n",
    "print(roc_auc_score(y_test, LogReg_clf.predict_proba(X_test)[:, 1]))\n",
    "\n",
    "\n",
    "LGBM_clf = Pipeline([(\"FingerprintEncoder\",ERGFingerprint(n_jobs=-1)),(\"LGBM\",lgb.LGBMClassifier(random_state=42,n_jobs=-1,verbose=0))])\n",
    "LGBM_clf.fit(X_train, y_train)\n",
    "print(\"ROC AUC score for LGBM                : \",end=\"\")\n",
    "print(roc_auc_score(y_test, LGBM_clf.predict_proba(X_test)[:, 1]))"
   ],
   "metadata": {
    "collapsed": false,
    "ExecuteTime": {
     "end_time": "2023-11-30T15:39:31.400006Z",
     "start_time": "2023-11-30T15:39:17.962175900Z"
    }
   },
   "id": "eefdab0aa252b3d6"
  },
  {
   "cell_type": "markdown",
   "source": [
    "## MAP4 Fingerprint"
   ],
   "metadata": {
    "collapsed": false
   },
   "id": "a10a8bbf40dfb224"
  },
  {
   "cell_type": "code",
   "execution_count": 12,
   "outputs": [
    {
     "name": "stdout",
     "output_type": "stream",
     "text": [
      "ROC AUC score for Random Forest       : 0.7027537747679001\n",
      "ROC AUC score for Logistic Regression : 0.6280580216763847\n",
      "ROC AUC score for LGBM                : 0.6817602178933999\n"
     ]
    }
   ],
   "source": [
    "RF_clf = Pipeline([(\"FingerprintEncoder\",MAP4Fingerprint(n_jobs=-1)),(\"RandomForest\",RandomForestClassifier(random_state=42,n_jobs=-1))])\n",
    "RF_clf.fit(X_train, y_train)\n",
    "print(\"ROC AUC score for Random Forest       : \",end=\"\")\n",
    "print(roc_auc_score(y_test, RF_clf.predict_proba(X_test)[:, 1]))\n",
    "\n",
    "LogReg_clf = Pipeline([(\"FingerprintEncoder\",MAP4Fingerprint(n_jobs=-1)),(\"LogReg\",LogisticRegression(class_weight=\"balanced\", penalty=None,n_jobs=-1))])\n",
    "LogReg_clf.fit(X_train, y_train)\n",
    "print(\"ROC AUC score for Logistic Regression : \",end=\"\")\n",
    "print(roc_auc_score(y_test, LogReg_clf.predict_proba(X_test)[:, 1]))\n",
    "\n",
    "\n",
    "LGBM_clf = Pipeline([(\"FingerprintEncoder\",MAP4Fingerprint(n_jobs=-1)),(\"LGBM\",lgb.LGBMClassifier(random_state=42,n_jobs=-1,verbose=0))])\n",
    "LGBM_clf.fit(X_train, y_train)\n",
    "print(\"ROC AUC score for LGBM                : \",end=\"\")\n",
    "print(roc_auc_score(y_test, LGBM_clf.predict_proba(X_test)[:, 1]))"
   ],
   "metadata": {
    "collapsed": false,
    "ExecuteTime": {
     "end_time": "2023-11-30T15:44:18.154717Z",
     "start_time": "2023-11-30T15:39:31.402049800Z"
    }
   },
   "id": "c727ac9205f0ac4e"
  },
  {
   "cell_type": "markdown",
   "source": [
    "## MHFP"
   ],
   "metadata": {
    "collapsed": false
   },
   "id": "ca899f966ed37f82"
  },
  {
   "cell_type": "code",
   "execution_count": 13,
   "outputs": [
    {
     "name": "stdout",
     "output_type": "stream",
     "text": [
      "ROC AUC score for Random Forest       : 0.6953641174854444\n",
      "ROC AUC score for Logistic Regression : 0.5920745267447248\n",
      "ROC AUC score for LGBM                : 0.6522716550462798\n"
     ]
    }
   ],
   "source": [
    "RF_clf = Pipeline([(\"FingerprintEncoder\",MHFP(n_jobs=-1)),(\"RandomForest\",RandomForestClassifier(random_state=42,n_jobs=-1))])\n",
    "RF_clf.fit(X_train, y_train)\n",
    "print(\"ROC AUC score for Random Forest       : \",end=\"\")\n",
    "print(roc_auc_score(y_test, RF_clf.predict_proba(X_test)[:, 1]))\n",
    "\n",
    "LogReg_clf = Pipeline([(\"FingerprintEncoder\",MHFP(n_jobs=-1)),(\"LogReg\",LogisticRegression(class_weight=\"balanced\", penalty=None,n_jobs=-1))])\n",
    "LogReg_clf.fit(X_train, y_train)\n",
    "print(\"ROC AUC score for Logistic Regression : \",end=\"\")\n",
    "print(roc_auc_score(y_test, LogReg_clf.predict_proba(X_test)[:, 1]))\n",
    "\n",
    "\n",
    "LGBM_clf = Pipeline([(\"FingerprintEncoder\",MHFP(n_jobs=-1)),(\"LGBM\",lgb.LGBMClassifier(random_state=42,n_jobs=-1,verbose=0))])\n",
    "LGBM_clf.fit(X_train, y_train)\n",
    "print(\"ROC AUC score for LGBM                : \",end=\"\")\n",
    "print(roc_auc_score(y_test, LGBM_clf.predict_proba(X_test)[:, 1]))"
   ],
   "metadata": {
    "collapsed": false,
    "ExecuteTime": {
     "end_time": "2023-11-30T15:48:06.451014900Z",
     "start_time": "2023-11-30T15:44:18.153716900Z"
    }
   },
   "id": "e39fb47744c793df"
  }
 ],
 "metadata": {
  "kernelspec": {
   "display_name": "Python 3",
   "language": "python",
   "name": "python3"
  },
  "language_info": {
   "codemirror_mode": {
    "name": "ipython",
    "version": 2
   },
   "file_extension": ".py",
   "mimetype": "text/x-python",
   "name": "python",
   "nbconvert_exporter": "python",
   "pygments_lexer": "ipython2",
   "version": "2.7.6"
  }
 },
 "nbformat": 4,
 "nbformat_minor": 5
}
