{
 "cells": [
  {
   "cell_type": "code",
   "execution_count": 1,
   "id": "initial_id",
   "metadata": {
    "collapsed": true,
    "ExecuteTime": {
     "end_time": "2023-11-30T17:30:39.750586600Z",
     "start_time": "2023-11-30T17:30:37.368081600Z"
    }
   },
   "outputs": [],
   "source": [
    "import pandas as pd\n",
    "from ogb.graphproppred import GraphPropPredDataset\n",
    "from sklearn.ensemble import RandomForestClassifier\n",
    "from sklearn.linear_model import LogisticRegression\n",
    "from sklearn.metrics import roc_auc_score\n",
    "from sklearn.model_selection import train_test_split\n",
    "import lightgbm as lgb\n",
    "from time import time"
   ]
  },
  {
   "cell_type": "code",
   "execution_count": 2,
   "outputs": [],
   "source": [
    "from featurizers.fingerprints import (\n",
    "    MHFP,\n",
    "    AtomPairFingerprint,\n",
    "    ERGFingerprint,\n",
    "    MACCSKeysFingerprint,\n",
    "    MAP4Fingerprint,\n",
    "    MorganFingerprint,\n",
    "    TopologicalTorsionFingerprint,\n",
    ")"
   ],
   "metadata": {
    "collapsed": false,
    "ExecuteTime": {
     "end_time": "2023-11-30T17:30:39.829588200Z",
     "start_time": "2023-11-30T17:30:39.751586500Z"
    }
   },
   "id": "7fbf186106f95e34"
  },
  {
   "cell_type": "markdown",
   "source": [
    "### Data preparation"
   ],
   "metadata": {
    "collapsed": false
   },
   "id": "ca4e51ae79be4b82"
  },
  {
   "cell_type": "code",
   "execution_count": 3,
   "outputs": [],
   "source": [
    "dataset_name = \"ogbg-molhiv\"\n",
    "GraphPropPredDataset(name=dataset_name, root=\"../dataset\")\n",
    "dataset = pd.read_csv(\n",
    "    f\"../dataset/{'_'.join(dataset_name.split('-'))}/mapping/mol.csv.gz\"\n",
    ")"
   ],
   "metadata": {
    "collapsed": false,
    "ExecuteTime": {
     "end_time": "2023-11-30T17:30:40.149221500Z",
     "start_time": "2023-11-30T17:30:39.831588900Z"
    }
   },
   "id": "46770d57391111e3"
  },
  {
   "cell_type": "code",
   "execution_count": 4,
   "outputs": [],
   "source": [
    "X = dataset[\"smiles\"]\n",
    "y = dataset[\"HIV_active\"]"
   ],
   "metadata": {
    "collapsed": false,
    "ExecuteTime": {
     "end_time": "2023-11-30T17:30:40.165222Z",
     "start_time": "2023-11-30T17:30:40.150400400Z"
    }
   },
   "id": "62ab7c70024a7e94"
  },
  {
   "cell_type": "code",
   "execution_count": 5,
   "outputs": [
    {
     "data": {
      "text/plain": "41127"
     },
     "execution_count": 5,
     "metadata": {},
     "output_type": "execute_result"
    }
   ],
   "source": [
    "n_molecules = X.shape[0]\n",
    "n_molecules"
   ],
   "metadata": {
    "collapsed": false,
    "ExecuteTime": {
     "end_time": "2023-11-30T17:30:40.211222900Z",
     "start_time": "2023-11-30T17:30:40.166222100Z"
    }
   },
   "id": "ba249de33169ff4f"
  },
  {
   "cell_type": "code",
   "execution_count": 6,
   "outputs": [],
   "source": [
    "X_train, X_test, y_train, y_test = train_test_split(\n",
    "    X, y, test_size=0.2, random_state=42, shuffle=True\n",
    ")"
   ],
   "metadata": {
    "collapsed": false,
    "ExecuteTime": {
     "end_time": "2023-11-30T17:30:40.220223400Z",
     "start_time": "2023-11-30T17:30:40.182222200Z"
    }
   },
   "id": "ae01f42ea252b218"
  },
  {
   "cell_type": "code",
   "execution_count": 7,
   "outputs": [
    {
     "name": "stdout",
     "output_type": "stream",
     "text": [
      "Morgan Fingerprint\n",
      " - Time of fingerprints computing : 2.26s\n",
      " - - ROC AUC score for RF : 0.8312466320411838\n",
      " - - ROC AUC score for LogReg : 0.7697658045116741\n",
      " - - ROC AUC score for LGBM : 0.8068905305631249\n",
      "Atom Pair Fingerprint\n",
      " - Time of fingerprints computing : 0.79s\n",
      " - - ROC AUC score for RF : 0.8163811147163397\n",
      " - - ROC AUC score for LogReg : 0.7398982467717491\n",
      " - - ROC AUC score for LGBM : 0.8174743610485823\n",
      "Topological Torsion Fingerprint\n",
      " - Time of fingerprints computing : 0.8s\n",
      " - - ROC AUC score for RF : 0.8364287767743437\n",
      " - - ROC AUC score for LogReg : 0.7664591006122096\n",
      " - - ROC AUC score for LGBM : 0.8347883764708081\n",
      "MACCS Keys Fingerprint\n",
      " - Time of fingerprints computing : 2.87s\n",
      " - - ROC AUC score for RF : 0.8071400089939629\n",
      " - - ROC AUC score for LogReg : 0.756602685534455\n",
      " - - ROC AUC score for LGBM : 0.8286703160583851\n",
      "ERG Fingerprint\n",
      " - Time of fingerprints computing : 2.64s\n",
      " - - ROC AUC score for RF : 0.7962790982087237\n",
      " - - ROC AUC score for LogReg : 0.7451256161055633\n",
      " - - ROC AUC score for LGBM : 0.8028245629456375\n",
      "MAP4 Fingerprint\n",
      " - Time of fingerprints computing : 69.86s\n",
      " - - ROC AUC score for RF : 0.7027584458534136\n",
      " - - ROC AUC score for LogReg : 0.6280580216763847\n",
      " - - ROC AUC score for LGBM : 0.6817602178933999\n",
      "MHFP Fingerprint\n",
      " - Time of fingerprints computing : 31.26s\n",
      " - - ROC AUC score for RF : 0.6953641174854442\n",
      " - - ROC AUC score for LogReg : 0.5920745267447248\n",
      " - - ROC AUC score for LGBM : 0.6522716550462798\n"
     ]
    }
   ],
   "source": [
    "records = []\n",
    "\n",
    "fp_names = [\n",
    "    \"Morgan\",\n",
    "    \"Atom Pair\",\n",
    "    \"Topological Torsion\",\n",
    "    \"MACCS Keys\",\n",
    "    \"ERG\",\n",
    "    \"MAP4\",\n",
    "    \"MHFP\",\n",
    "]\n",
    "fingerprints = [\n",
    "    MorganFingerprint,\n",
    "    AtomPairFingerprint,\n",
    "    TopologicalTorsionFingerprint,\n",
    "    MACCSKeysFingerprint,\n",
    "    ERGFingerprint,\n",
    "    MAP4Fingerprint,\n",
    "    MHFP,\n",
    "]\n",
    "\n",
    "clf_names = [\"RF\", \"LogReg\", \"LGBM\"]\n",
    "classifiers = [RandomForestClassifier, LogisticRegression, lgb.LGBMClassifier]\n",
    "classifier_kwargs = [\n",
    "    {\"random_state\": 42, \"n_jobs\": -1},\n",
    "    {\n",
    "        \"random_state\": 42,\n",
    "        \"class_weight\": \"balanced\",\n",
    "        \"penalty\": None,\n",
    "        \"n_jobs\": -1,\n",
    "    },\n",
    "    {\"random_state\": 42, \"n_jobs\": -1, \"verbose\": 0},\n",
    "]\n",
    "\n",
    "\n",
    "for fingerprint, fp_name in zip(fingerprints, fp_names):\n",
    "    records.append({})\n",
    "    records[-1][\"fp_name\"] = fp_name\n",
    "    print(fp_name, \"Fingerprint\")\n",
    "    start = time()\n",
    "    fp_transformer = fingerprint(n_jobs=-1)\n",
    "    X_fp_train = fp_transformer.transform(X_train)\n",
    "    X_fp_test = fp_transformer.transform(X_test)\n",
    "    end = time()\n",
    "    execution_time = end - start\n",
    "    print(f\" - Time of fingerprints computing : {round(execution_time,2)}s\")\n",
    "    records[-1][\"execution_time\"] = execution_time\n",
    "    for classifier, clf_name, clf_kwargs in zip(\n",
    "        classifiers, clf_names, classifier_kwargs\n",
    "    ):\n",
    "        clf = classifier(**clf_kwargs)\n",
    "        clf.fit(X_fp_train, y_train)\n",
    "        score = roc_auc_score(y_test, clf.predict_proba(X_fp_test)[:, 1])\n",
    "        print(f\" - - ROC AUC score for {clf_name} :\", score)\n",
    "        records[-1][clf_name] = score"
   ],
   "metadata": {
    "collapsed": false,
    "ExecuteTime": {
     "end_time": "2023-11-30T17:34:41.011059200Z",
     "start_time": "2023-11-30T17:30:40.200222600Z"
    }
   },
   "id": "cd43296660ef9623"
  },
  {
   "cell_type": "code",
   "execution_count": 8,
   "outputs": [],
   "source": [
    "df = pd.DataFrame.from_records(records)"
   ],
   "metadata": {
    "collapsed": false,
    "ExecuteTime": {
     "end_time": "2023-11-30T17:34:41.023059300Z",
     "start_time": "2023-11-30T17:34:41.009060Z"
    }
   },
   "id": "c8873cbbb3a068a2"
  },
  {
   "cell_type": "code",
   "execution_count": 9,
   "outputs": [],
   "source": [
    "df.to_csv(\"classification_scores.csv\")"
   ],
   "metadata": {
    "collapsed": false,
    "ExecuteTime": {
     "end_time": "2023-11-30T17:34:41.041060600Z",
     "start_time": "2023-11-30T17:34:41.024059700Z"
    }
   },
   "id": "c909fecf7f4cdc02"
  },
  {
   "cell_type": "code",
   "execution_count": 10,
   "outputs": [
    {
     "data": {
      "text/plain": "               fp_name  execution_time        RF    LogReg      LGBM\n0               Morgan        2.262339  0.831247  0.769766  0.806891\n1            Atom Pair        0.792688  0.816381  0.739898  0.817474\n2  Topological Torsion        0.798231  0.836429  0.766459  0.834788\n3           MACCS Keys        2.872269  0.807140  0.756603  0.828670\n4                  ERG        2.639954  0.796279  0.745126  0.802825\n5                 MAP4       69.864257  0.702758  0.628058  0.681760\n6                 MHFP       31.262374  0.695364  0.592075  0.652272",
      "text/html": "<div>\n<style scoped>\n    .dataframe tbody tr th:only-of-type {\n        vertical-align: middle;\n    }\n\n    .dataframe tbody tr th {\n        vertical-align: top;\n    }\n\n    .dataframe thead th {\n        text-align: right;\n    }\n</style>\n<table border=\"1\" class=\"dataframe\">\n  <thead>\n    <tr style=\"text-align: right;\">\n      <th></th>\n      <th>fp_name</th>\n      <th>execution_time</th>\n      <th>RF</th>\n      <th>LogReg</th>\n      <th>LGBM</th>\n    </tr>\n  </thead>\n  <tbody>\n    <tr>\n      <th>0</th>\n      <td>Morgan</td>\n      <td>2.262339</td>\n      <td>0.831247</td>\n      <td>0.769766</td>\n      <td>0.806891</td>\n    </tr>\n    <tr>\n      <th>1</th>\n      <td>Atom Pair</td>\n      <td>0.792688</td>\n      <td>0.816381</td>\n      <td>0.739898</td>\n      <td>0.817474</td>\n    </tr>\n    <tr>\n      <th>2</th>\n      <td>Topological Torsion</td>\n      <td>0.798231</td>\n      <td>0.836429</td>\n      <td>0.766459</td>\n      <td>0.834788</td>\n    </tr>\n    <tr>\n      <th>3</th>\n      <td>MACCS Keys</td>\n      <td>2.872269</td>\n      <td>0.807140</td>\n      <td>0.756603</td>\n      <td>0.828670</td>\n    </tr>\n    <tr>\n      <th>4</th>\n      <td>ERG</td>\n      <td>2.639954</td>\n      <td>0.796279</td>\n      <td>0.745126</td>\n      <td>0.802825</td>\n    </tr>\n    <tr>\n      <th>5</th>\n      <td>MAP4</td>\n      <td>69.864257</td>\n      <td>0.702758</td>\n      <td>0.628058</td>\n      <td>0.681760</td>\n    </tr>\n    <tr>\n      <th>6</th>\n      <td>MHFP</td>\n      <td>31.262374</td>\n      <td>0.695364</td>\n      <td>0.592075</td>\n      <td>0.652272</td>\n    </tr>\n  </tbody>\n</table>\n</div>"
     },
     "execution_count": 10,
     "metadata": {},
     "output_type": "execute_result"
    }
   ],
   "source": [
    "df"
   ],
   "metadata": {
    "collapsed": false,
    "ExecuteTime": {
     "end_time": "2023-11-30T17:34:41.061060500Z",
     "start_time": "2023-11-30T17:34:41.041060600Z"
    }
   },
   "id": "9cdc322e421cc7da"
  },
  {
   "cell_type": "code",
   "execution_count": 10,
   "outputs": [],
   "source": [],
   "metadata": {
    "collapsed": false,
    "ExecuteTime": {
     "end_time": "2023-11-30T17:34:41.074060100Z",
     "start_time": "2023-11-30T17:34:41.056059900Z"
    }
   },
   "id": "53b36d1cf36a4b68"
  }
 ],
 "metadata": {
  "kernelspec": {
   "display_name": "Python 3",
   "language": "python",
   "name": "python3"
  },
  "language_info": {
   "codemirror_mode": {
    "name": "ipython",
    "version": 2
   },
   "file_extension": ".py",
   "mimetype": "text/x-python",
   "name": "python",
   "nbconvert_exporter": "python",
   "pygments_lexer": "ipython2",
   "version": "2.7.6"
  }
 },
 "nbformat": 4,
 "nbformat_minor": 5
}
