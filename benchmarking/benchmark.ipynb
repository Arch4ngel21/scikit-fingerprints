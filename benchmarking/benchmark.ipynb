{
 "cells": [
  {
   "cell_type": "code",
   "execution_count": 3,
   "outputs": [],
   "source": [
    "# !pip3 install -U torch_geometric\n",
    "# !pip3 install -U torch-scatter\n",
    "# !pip3 install -U torch-sparse\n",
    "# !pip3 install -U pandas\n",
    "# !pip3 install -U numpy\n",
    "# !pip3 install -U matplotlib\n",
    "# !pip3 install -U sklearn\n",
    "# !pip3 install -U PyTDC\n",
    "# !pip3 install -U pre-commit\n",
    "# !pip3 install -U plotly\n",
    "# !pip3 install -U tdc\n",
    "# !pip3 install -U ogb\n",
    "# !pip3 install ogb==1.2.6"
   ],
   "metadata": {
    "collapsed": false,
    "ExecuteTime": {
     "end_time": "2023-09-19T15:35:13.050565200Z",
     "start_time": "2023-09-19T15:35:13.049058700Z"
    }
   },
   "id": "73d3d1e3"
  },
  {
   "cell_type": "code",
   "execution_count": 4,
   "id": "f912afb8",
   "metadata": {
    "ExecuteTime": {
     "end_time": "2023-09-19T15:35:17.311750700Z",
     "start_time": "2023-09-19T15:35:13.299803600Z"
    }
   },
   "outputs": [
    {
     "name": "stderr",
     "output_type": "stream",
     "text": [
      "WARNING:root:The OGB package is out of date. Your version is 1.2.6, while the latest version is 1.3.6.\n"
     ]
    }
   ],
   "source": [
    "import matplotlib.pyplot as plt\n",
    "import numpy as np\n",
    "import pandas as pd\n",
    "import rdkit\n",
    "from scipy.sparse import csr_array\n",
    "\n",
    "from ogb.graphproppred import PygGraphPropPredDataset\n",
    "from ogb.graphproppred import GraphPropPredDataset\n",
    "import rdkit.Chem.rdFingerprintGenerator as fpgens\n",
    "from sklearn.ensemble import RandomForestClassifier\n",
    "from sklearn.metrics import roc_auc_score, average_precision_score\n",
    "from sklearn.model_selection import train_test_split\n",
    "from sklearn.multioutput import MultiOutputClassifier\n",
    "from tdc.single_pred import Tox\n",
    "from rdkit.Chem import AllChem\n",
    "from rdkit import Chem\n",
    "\n",
    "from time import time"
   ]
  },
  {
   "cell_type": "code",
   "execution_count": 5,
   "id": "c01e1766",
   "metadata": {
    "ExecuteTime": {
     "end_time": "2023-09-19T15:35:17.321719700Z",
     "start_time": "2023-09-19T15:35:17.311750700Z"
    }
   },
   "outputs": [],
   "source": [
    "from featurizers.fingerprints import (\n",
    "    MorganFingerprint,\n",
    "    AtomPairFingerprint,\n",
    "    TopologicalTorsionFingerprint,\n",
    "    MACCSKeysFingerprint,\n",
    "    ERGFingerprint,\n",
    ")\n",
    "\n",
    "\n",
    "from rdkit.Chem import MolFromSmiles"
   ]
  },
  {
   "cell_type": "code",
   "execution_count": 6,
   "outputs": [],
   "source": [
    "dataset_name = \"ogbg-molhiv\"\n",
    "# GraphPropPredDataset(name=dataset_name)"
   ],
   "metadata": {
    "collapsed": false,
    "ExecuteTime": {
     "end_time": "2023-09-19T15:35:17.322719700Z",
     "start_time": "2023-09-19T15:35:17.318212300Z"
    }
   },
   "id": "e5f47173f4e7f9d9"
  },
  {
   "cell_type": "code",
   "execution_count": 7,
   "outputs": [],
   "source": [
    "dataset = pd.read_csv(\n",
    "    f\"../dataset/{'_'.join(dataset_name.split('-'))}/mapping/mol.csv.gz\"\n",
    ")\n",
    "X = dataset[\"smiles\"]\n",
    "y = dataset[\"HIV_active\"]"
   ],
   "metadata": {
    "collapsed": false,
    "ExecuteTime": {
     "end_time": "2023-09-19T15:35:17.356723400Z",
     "start_time": "2023-09-19T15:35:17.320719800Z"
    }
   },
   "id": "10ed844137c9413a"
  },
  {
   "cell_type": "code",
   "execution_count": 8,
   "id": "f0a7c1c2",
   "metadata": {
    "ExecuteTime": {
     "end_time": "2023-09-19T15:35:17.357724Z",
     "start_time": "2023-09-19T15:35:17.349269500Z"
    }
   },
   "outputs": [
    {
     "data": {
      "text/plain": "41127"
     },
     "execution_count": 8,
     "metadata": {},
     "output_type": "execute_result"
    }
   ],
   "source": [
    "n_molecules = X.shape[0]\n",
    "n_molecules"
   ]
  },
  {
   "cell_type": "code",
   "execution_count": 9,
   "outputs": [],
   "source": [
    "N_SPLITS = 5\n",
    "N_REPEATS = 5\n",
    "N_CORES = [1, 2, 4, -1]\n",
    "COUNT_TYPES = [False, True]\n",
    "SPARSE_TYPES = [False, True]"
   ],
   "metadata": {
    "collapsed": false,
    "ExecuteTime": {
     "end_time": "2023-09-19T15:35:17.357724Z",
     "start_time": "2023-09-19T15:35:17.353960Z"
    }
   },
   "id": "914bcfff12135f19"
  },
  {
   "cell_type": "code",
   "execution_count": 10,
   "outputs": [],
   "source": [
    "def get_times_emf(transformer_function, **kwargs):\n",
    "    result = []\n",
    "    emf_transformer = transformer_function(**kwargs)\n",
    "    for data_fraction in np.linspace(0, 1, N_SPLITS + 1)[1:]:\n",
    "        n = int(n_molecules * data_fraction)\n",
    "        subset = X[:n]\n",
    "        times = [None for _ in range(N_REPEATS)]\n",
    "        for i in range(N_REPEATS):\n",
    "            start = time()\n",
    "            X_transformed = emf_transformer.transform(subset)\n",
    "            end = time()\n",
    "            times[i] = end - start\n",
    "        result.append(sum(times) / N_REPEATS)\n",
    "    return np.array(result)"
   ],
   "metadata": {
    "collapsed": false,
    "ExecuteTime": {
     "end_time": "2023-09-19T15:35:17.384564200Z",
     "start_time": "2023-09-19T15:35:17.356723400Z"
    }
   },
   "id": "de403d3606036e13"
  },
  {
   "cell_type": "code",
   "execution_count": 31,
   "id": "552b8d2f",
   "metadata": {
    "ExecuteTime": {
     "end_time": "2023-09-19T16:28:08.535769Z",
     "start_time": "2023-09-19T16:28:08.517260200Z"
    }
   },
   "outputs": [],
   "source": [
    "def get_generator_times_rdkit(generator, count, sparse):\n",
    "    if count:\n",
    "        fp_function = lambda x : generator.GetCountFingerprint(MolFromSmiles(x)).ToList()\n",
    "    else:\n",
    "        fp_function = lambda x : generator.GetFingerprint(MolFromSmiles(x))\n",
    "    result = []\n",
    "    for data_fraction in np.linspace(0, 1, N_SPLITS + 1)[1:]:\n",
    "        n = int(n_molecules * data_fraction)\n",
    "        subset = X[:n]\n",
    "        times = [None for _ in range(N_REPEATS)]\n",
    "        for i in range(N_REPEATS):\n",
    "            start = time()\n",
    "            if sparse:\n",
    "                X_transformed = csr_array([fp_function(x) for x in subset])\n",
    "            else:\n",
    "                X_transformed = np.array([fp_function(x) for x in subset])\n",
    "            end = time()\n",
    "            times[i] = end - start\n",
    "        result.append(sum(times) / N_REPEATS)\n",
    "    return np.array(result)\n",
    "\n",
    "\n",
    "def get_times_rdkit(func, sparse = False, **kwargs):\n",
    "    result = []\n",
    "    for data_fraction in np.linspace(0, 1, N_SPLITS + 1)[1:]:\n",
    "        n = int(n_molecules * data_fraction)\n",
    "        subset = X[:n]\n",
    "        times = [None for _ in range(N_REPEATS)]\n",
    "        for i in range(N_REPEATS):\n",
    "            start = time()\n",
    "            if sparse:\n",
    "                X_transformed = csr_array([func(MolFromSmiles(x), **kwargs) for x in subset])\n",
    "            else:\n",
    "                X_transformed = np.array([func(MolFromSmiles(x), **kwargs) for x in subset])\n",
    "            end = time()\n",
    "            times[i] = end - start\n",
    "        result.append(sum(times) / N_REPEATS)\n",
    "    return np.array(result)"
   ]
  },
  {
   "cell_type": "code",
   "execution_count": 32,
   "id": "b8cce3ea",
   "metadata": {
    "ExecuteTime": {
     "end_time": "2023-09-19T16:28:09.097680900Z",
     "start_time": "2023-09-19T16:28:09.083952300Z"
    }
   },
   "outputs": [],
   "source": [
    "def plot_results(y_emf, y_rdkit, title=\"\", sparse=None, count=None):\n",
    "    if sparse is not None:\n",
    "        if sparse:\n",
    "            title += \" sparse\"\n",
    "\n",
    "    if count is not None:\n",
    "        if count:\n",
    "            title += \" count\"\n",
    "        else:\n",
    "            title += \" bit\"\n",
    "\n",
    "    X = n_molecules * np.linspace(0, 1, N_SPLITS + 1)[1:]\n",
    "\n",
    "    plt.rcParams[\"font.size\"] = 20\n",
    "    fig = plt.figure(figsize=(15, 10))\n",
    "    ax1 = fig.add_subplot()\n",
    "    ax1.set_title(title)\n",
    "\n",
    "    ax1.plot(X, y_emf[0], label=\"emf time - 1 job\")\n",
    "    ax1.plot(X, y_emf[1], label=\"emf time - 2 job\")\n",
    "    ax1.plot(X, y_emf[2], label=\"emf time - 4 job\")\n",
    "    ax1.plot(X, y_emf[3], label=\"emf time - all jobs\")\n",
    "    ax1.plot(X, y_rdkit, label=\"rdkit time\")\n",
    "\n",
    "    ax1.set_ylabel(\"Time of computiation\")\n",
    "    ax1.set_xlabel(\"Number of finberprints\")\n",
    "\n",
    "    ax1.set_xlim(n_molecules * 0.1, n_molecules * 1.1)\n",
    "    ax1.set_ylim(bottom=0)\n",
    "\n",
    "    plt.legend(loc=\"upper left\")\n",
    "    plt.savefig(title.replace(\" \",\"_\") + '.png')\n",
    "    # plt.show()"
   ]
  },
  {
   "cell_type": "markdown",
   "id": "bd5bced7",
   "metadata": {},
   "source": [
    "## Morgan Fingerprint"
   ]
  },
  {
   "cell_type": "code",
   "execution_count": 22,
   "id": "a4d28a30",
   "metadata": {
    "ExecuteTime": {
     "end_time": "2023-09-19T14:22:34.223913700Z",
     "start_time": "2023-09-19T14:21:31.402779800Z"
    }
   },
   "outputs": [
    {
     "ename": "KeyboardInterrupt",
     "evalue": "",
     "output_type": "error",
     "traceback": [
      "\u001B[1;31m---------------------------------------------------------------------------\u001B[0m",
      "\u001B[1;31mKeyboardInterrupt\u001B[0m                         Traceback (most recent call last)",
      "Cell \u001B[1;32mIn[22], line 1\u001B[0m\n\u001B[1;32m----> 1\u001B[0m morgan_emf_times \u001B[38;5;241m=\u001B[39m \u001B[43m[\u001B[49m\n\u001B[0;32m      2\u001B[0m \u001B[43m    \u001B[49m\u001B[43m[\u001B[49m\n\u001B[0;32m      3\u001B[0m \u001B[43m        \u001B[49m\u001B[43m[\u001B[49m\n\u001B[0;32m      4\u001B[0m \u001B[43m            \u001B[49m\u001B[43mget_times_emf\u001B[49m\u001B[43m(\u001B[49m\n\u001B[0;32m      5\u001B[0m \u001B[43m                \u001B[49m\u001B[43mMorganFingerprint\u001B[49m\u001B[43m,\u001B[49m\n\u001B[0;32m      6\u001B[0m \u001B[43m                \u001B[49m\u001B[43msparse\u001B[49m\u001B[38;5;241;43m=\u001B[39;49m\u001B[43msparse\u001B[49m\u001B[43m,\u001B[49m\n\u001B[0;32m      7\u001B[0m \u001B[43m                \u001B[49m\u001B[43mcount\u001B[49m\u001B[38;5;241;43m=\u001B[39;49m\u001B[43mcount\u001B[49m\u001B[43m,\u001B[49m\n\u001B[0;32m      8\u001B[0m \u001B[43m                \u001B[49m\u001B[43mn_jobs\u001B[49m\u001B[38;5;241;43m=\u001B[39;49m\u001B[43mn_cores\u001B[49m\u001B[43m,\u001B[49m\n\u001B[0;32m      9\u001B[0m \u001B[43m            \u001B[49m\u001B[43m)\u001B[49m\n\u001B[0;32m     10\u001B[0m \u001B[43m            \u001B[49m\u001B[38;5;28;43;01mfor\u001B[39;49;00m\u001B[43m \u001B[49m\u001B[43mn_cores\u001B[49m\u001B[43m \u001B[49m\u001B[38;5;129;43;01min\u001B[39;49;00m\u001B[43m \u001B[49m\u001B[43mN_CORES\u001B[49m\n\u001B[0;32m     11\u001B[0m \u001B[43m        \u001B[49m\u001B[43m]\u001B[49m\n\u001B[0;32m     12\u001B[0m \u001B[43m        \u001B[49m\u001B[38;5;28;43;01mfor\u001B[39;49;00m\u001B[43m \u001B[49m\u001B[43msparse\u001B[49m\u001B[43m \u001B[49m\u001B[38;5;129;43;01min\u001B[39;49;00m\u001B[43m \u001B[49m\u001B[43mSPARSE_TYPES\u001B[49m\n\u001B[0;32m     13\u001B[0m \u001B[43m    \u001B[49m\u001B[43m]\u001B[49m\n\u001B[0;32m     14\u001B[0m \u001B[43m    \u001B[49m\u001B[38;5;28;43;01mfor\u001B[39;49;00m\u001B[43m \u001B[49m\u001B[43mcount\u001B[49m\u001B[43m \u001B[49m\u001B[38;5;129;43;01min\u001B[39;49;00m\u001B[43m \u001B[49m\u001B[43mCOUNT_TYPES\u001B[49m\n\u001B[0;32m     15\u001B[0m \u001B[43m]\u001B[49m\n",
      "Cell \u001B[1;32mIn[22], line 2\u001B[0m, in \u001B[0;36m<listcomp>\u001B[1;34m(.0)\u001B[0m\n\u001B[0;32m      1\u001B[0m morgan_emf_times \u001B[38;5;241m=\u001B[39m [\n\u001B[1;32m----> 2\u001B[0m     \u001B[43m[\u001B[49m\n\u001B[0;32m      3\u001B[0m \u001B[43m        \u001B[49m\u001B[43m[\u001B[49m\n\u001B[0;32m      4\u001B[0m \u001B[43m            \u001B[49m\u001B[43mget_times_emf\u001B[49m\u001B[43m(\u001B[49m\n\u001B[0;32m      5\u001B[0m \u001B[43m                \u001B[49m\u001B[43mMorganFingerprint\u001B[49m\u001B[43m,\u001B[49m\n\u001B[0;32m      6\u001B[0m \u001B[43m                \u001B[49m\u001B[43msparse\u001B[49m\u001B[38;5;241;43m=\u001B[39;49m\u001B[43msparse\u001B[49m\u001B[43m,\u001B[49m\n\u001B[0;32m      7\u001B[0m \u001B[43m                \u001B[49m\u001B[43mcount\u001B[49m\u001B[38;5;241;43m=\u001B[39;49m\u001B[43mcount\u001B[49m\u001B[43m,\u001B[49m\n\u001B[0;32m      8\u001B[0m \u001B[43m                \u001B[49m\u001B[43mn_jobs\u001B[49m\u001B[38;5;241;43m=\u001B[39;49m\u001B[43mn_cores\u001B[49m\u001B[43m,\u001B[49m\n\u001B[0;32m      9\u001B[0m \u001B[43m            \u001B[49m\u001B[43m)\u001B[49m\n\u001B[0;32m     10\u001B[0m \u001B[43m            \u001B[49m\u001B[38;5;28;43;01mfor\u001B[39;49;00m\u001B[43m \u001B[49m\u001B[43mn_cores\u001B[49m\u001B[43m \u001B[49m\u001B[38;5;129;43;01min\u001B[39;49;00m\u001B[43m \u001B[49m\u001B[43mN_CORES\u001B[49m\n\u001B[0;32m     11\u001B[0m \u001B[43m        \u001B[49m\u001B[43m]\u001B[49m\n\u001B[0;32m     12\u001B[0m \u001B[43m        \u001B[49m\u001B[38;5;28;43;01mfor\u001B[39;49;00m\u001B[43m \u001B[49m\u001B[43msparse\u001B[49m\u001B[43m \u001B[49m\u001B[38;5;129;43;01min\u001B[39;49;00m\u001B[43m \u001B[49m\u001B[43mSPARSE_TYPES\u001B[49m\n\u001B[0;32m     13\u001B[0m \u001B[43m    \u001B[49m\u001B[43m]\u001B[49m\n\u001B[0;32m     14\u001B[0m     \u001B[38;5;28;01mfor\u001B[39;00m count \u001B[38;5;129;01min\u001B[39;00m COUNT_TYPES\n\u001B[0;32m     15\u001B[0m ]\n",
      "Cell \u001B[1;32mIn[22], line 3\u001B[0m, in \u001B[0;36m<listcomp>\u001B[1;34m(.0)\u001B[0m\n\u001B[0;32m      1\u001B[0m morgan_emf_times \u001B[38;5;241m=\u001B[39m [\n\u001B[0;32m      2\u001B[0m     [\n\u001B[1;32m----> 3\u001B[0m         \u001B[43m[\u001B[49m\n\u001B[0;32m      4\u001B[0m \u001B[43m            \u001B[49m\u001B[43mget_times_emf\u001B[49m\u001B[43m(\u001B[49m\n\u001B[0;32m      5\u001B[0m \u001B[43m                \u001B[49m\u001B[43mMorganFingerprint\u001B[49m\u001B[43m,\u001B[49m\n\u001B[0;32m      6\u001B[0m \u001B[43m                \u001B[49m\u001B[43msparse\u001B[49m\u001B[38;5;241;43m=\u001B[39;49m\u001B[43msparse\u001B[49m\u001B[43m,\u001B[49m\n\u001B[0;32m      7\u001B[0m \u001B[43m                \u001B[49m\u001B[43mcount\u001B[49m\u001B[38;5;241;43m=\u001B[39;49m\u001B[43mcount\u001B[49m\u001B[43m,\u001B[49m\n\u001B[0;32m      8\u001B[0m \u001B[43m                \u001B[49m\u001B[43mn_jobs\u001B[49m\u001B[38;5;241;43m=\u001B[39;49m\u001B[43mn_cores\u001B[49m\u001B[43m,\u001B[49m\n\u001B[0;32m      9\u001B[0m \u001B[43m            \u001B[49m\u001B[43m)\u001B[49m\n\u001B[0;32m     10\u001B[0m \u001B[43m            \u001B[49m\u001B[38;5;28;43;01mfor\u001B[39;49;00m\u001B[43m \u001B[49m\u001B[43mn_cores\u001B[49m\u001B[43m \u001B[49m\u001B[38;5;129;43;01min\u001B[39;49;00m\u001B[43m \u001B[49m\u001B[43mN_CORES\u001B[49m\n\u001B[0;32m     11\u001B[0m \u001B[43m        \u001B[49m\u001B[43m]\u001B[49m\n\u001B[0;32m     12\u001B[0m         \u001B[38;5;28;01mfor\u001B[39;00m sparse \u001B[38;5;129;01min\u001B[39;00m SPARSE_TYPES\n\u001B[0;32m     13\u001B[0m     ]\n\u001B[0;32m     14\u001B[0m     \u001B[38;5;28;01mfor\u001B[39;00m count \u001B[38;5;129;01min\u001B[39;00m COUNT_TYPES\n\u001B[0;32m     15\u001B[0m ]\n",
      "Cell \u001B[1;32mIn[22], line 4\u001B[0m, in \u001B[0;36m<listcomp>\u001B[1;34m(.0)\u001B[0m\n\u001B[0;32m      1\u001B[0m morgan_emf_times \u001B[38;5;241m=\u001B[39m [\n\u001B[0;32m      2\u001B[0m     [\n\u001B[0;32m      3\u001B[0m         [\n\u001B[1;32m----> 4\u001B[0m             \u001B[43mget_times_emf\u001B[49m\u001B[43m(\u001B[49m\n\u001B[0;32m      5\u001B[0m \u001B[43m                \u001B[49m\u001B[43mMorganFingerprint\u001B[49m\u001B[43m,\u001B[49m\n\u001B[0;32m      6\u001B[0m \u001B[43m                \u001B[49m\u001B[43msparse\u001B[49m\u001B[38;5;241;43m=\u001B[39;49m\u001B[43msparse\u001B[49m\u001B[43m,\u001B[49m\n\u001B[0;32m      7\u001B[0m \u001B[43m                \u001B[49m\u001B[43mcount\u001B[49m\u001B[38;5;241;43m=\u001B[39;49m\u001B[43mcount\u001B[49m\u001B[43m,\u001B[49m\n\u001B[0;32m      8\u001B[0m \u001B[43m                \u001B[49m\u001B[43mn_jobs\u001B[49m\u001B[38;5;241;43m=\u001B[39;49m\u001B[43mn_cores\u001B[49m\u001B[43m,\u001B[49m\n\u001B[0;32m      9\u001B[0m \u001B[43m            \u001B[49m\u001B[43m)\u001B[49m\n\u001B[0;32m     10\u001B[0m             \u001B[38;5;28;01mfor\u001B[39;00m n_cores \u001B[38;5;129;01min\u001B[39;00m N_CORES\n\u001B[0;32m     11\u001B[0m         ]\n\u001B[0;32m     12\u001B[0m         \u001B[38;5;28;01mfor\u001B[39;00m sparse \u001B[38;5;129;01min\u001B[39;00m SPARSE_TYPES\n\u001B[0;32m     13\u001B[0m     ]\n\u001B[0;32m     14\u001B[0m     \u001B[38;5;28;01mfor\u001B[39;00m count \u001B[38;5;129;01min\u001B[39;00m COUNT_TYPES\n\u001B[0;32m     15\u001B[0m ]\n",
      "Cell \u001B[1;32mIn[19], line 10\u001B[0m, in \u001B[0;36mget_times_emf\u001B[1;34m(transformer_function, **kwargs)\u001B[0m\n\u001B[0;32m      8\u001B[0m \u001B[38;5;28;01mfor\u001B[39;00m i \u001B[38;5;129;01min\u001B[39;00m \u001B[38;5;28mrange\u001B[39m(N_REPEATS):\n\u001B[0;32m      9\u001B[0m     start \u001B[38;5;241m=\u001B[39m time()\n\u001B[1;32m---> 10\u001B[0m     X_transformed \u001B[38;5;241m=\u001B[39m \u001B[43memf_transformer\u001B[49m\u001B[38;5;241;43m.\u001B[39;49m\u001B[43mtransform\u001B[49m\u001B[43m(\u001B[49m\u001B[43msubset\u001B[49m\u001B[43m)\u001B[49m\n\u001B[0;32m     11\u001B[0m     end \u001B[38;5;241m=\u001B[39m time()\n\u001B[0;32m     12\u001B[0m     times[i] \u001B[38;5;241m=\u001B[39m end \u001B[38;5;241m-\u001B[39m start\n",
      "File \u001B[1;32m~\\AppData\\Roaming\\Python\\Python311\\site-packages\\sklearn\\utils\\_set_output.py:140\u001B[0m, in \u001B[0;36m_wrap_method_output.<locals>.wrapped\u001B[1;34m(self, X, *args, **kwargs)\u001B[0m\n\u001B[0;32m    138\u001B[0m \u001B[38;5;129m@wraps\u001B[39m(f)\n\u001B[0;32m    139\u001B[0m \u001B[38;5;28;01mdef\u001B[39;00m \u001B[38;5;21mwrapped\u001B[39m(\u001B[38;5;28mself\u001B[39m, X, \u001B[38;5;241m*\u001B[39margs, \u001B[38;5;241m*\u001B[39m\u001B[38;5;241m*\u001B[39mkwargs):\n\u001B[1;32m--> 140\u001B[0m     data_to_wrap \u001B[38;5;241m=\u001B[39m \u001B[43mf\u001B[49m\u001B[43m(\u001B[49m\u001B[38;5;28;43mself\u001B[39;49m\u001B[43m,\u001B[49m\u001B[43m \u001B[49m\u001B[43mX\u001B[49m\u001B[43m,\u001B[49m\u001B[43m \u001B[49m\u001B[38;5;241;43m*\u001B[39;49m\u001B[43margs\u001B[49m\u001B[43m,\u001B[49m\u001B[43m \u001B[49m\u001B[38;5;241;43m*\u001B[39;49m\u001B[38;5;241;43m*\u001B[39;49m\u001B[43mkwargs\u001B[49m\u001B[43m)\u001B[49m\n\u001B[0;32m    141\u001B[0m     \u001B[38;5;28;01mif\u001B[39;00m \u001B[38;5;28misinstance\u001B[39m(data_to_wrap, \u001B[38;5;28mtuple\u001B[39m):\n\u001B[0;32m    142\u001B[0m         \u001B[38;5;66;03m# only wrap the first output for cross decomposition\u001B[39;00m\n\u001B[0;32m    143\u001B[0m         return_tuple \u001B[38;5;241m=\u001B[39m (\n\u001B[0;32m    144\u001B[0m             _wrap_data_with_container(method, data_to_wrap[\u001B[38;5;241m0\u001B[39m], X, \u001B[38;5;28mself\u001B[39m),\n\u001B[0;32m    145\u001B[0m             \u001B[38;5;241m*\u001B[39mdata_to_wrap[\u001B[38;5;241m1\u001B[39m:],\n\u001B[0;32m    146\u001B[0m         )\n",
      "File \u001B[1;32m~\\Desktop\\zajecia\\emf\\base.py:40\u001B[0m, in \u001B[0;36mFingerprintTransformer.transform\u001B[1;34m(self, X)\u001B[0m\n\u001B[0;32m     34\u001B[0m \u001B[38;5;250m\u001B[39m\u001B[38;5;124;03m\"\"\"\u001B[39;00m\n\u001B[0;32m     35\u001B[0m \u001B[38;5;124;03m:param X: np.array or DataFrame of rdkit.Mol objects\u001B[39;00m\n\u001B[0;32m     36\u001B[0m \u001B[38;5;124;03m:return: np.array or sparse array of calculated fingerprints for each molecule\u001B[39;00m\n\u001B[0;32m     37\u001B[0m \u001B[38;5;124;03m\"\"\"\u001B[39;00m\n\u001B[0;32m     39\u001B[0m \u001B[38;5;28;01mif\u001B[39;00m \u001B[38;5;28mself\u001B[39m\u001B[38;5;241m.\u001B[39mn_jobs \u001B[38;5;241m==\u001B[39m \u001B[38;5;241m1\u001B[39m:\n\u001B[1;32m---> 40\u001B[0m     \u001B[38;5;28;01mreturn\u001B[39;00m \u001B[38;5;28;43mself\u001B[39;49m\u001B[38;5;241;43m.\u001B[39;49m\u001B[43m_calculate_fingerprint\u001B[49m\u001B[43m(\u001B[49m\u001B[43mX\u001B[49m\u001B[43m)\u001B[49m\n\u001B[0;32m     41\u001B[0m \u001B[38;5;28;01melse\u001B[39;00m:\n\u001B[0;32m     42\u001B[0m     batch_size \u001B[38;5;241m=\u001B[39m \u001B[38;5;28mmax\u001B[39m(\u001B[38;5;28mlen\u001B[39m(X) \u001B[38;5;241m/\u001B[39m\u001B[38;5;241m/\u001B[39m \u001B[38;5;28mself\u001B[39m\u001B[38;5;241m.\u001B[39mn_jobs, \u001B[38;5;241m1\u001B[39m)\n",
      "File \u001B[1;32m~\\Desktop\\zajecia\\emf\\featurizers\\fingerprints.py:62\u001B[0m, in \u001B[0;36mMorganFingerprint._calculate_fingerprint\u001B[1;34m(self, X)\u001B[0m\n\u001B[0;32m     59\u001B[0m \u001B[38;5;28;01mdef\u001B[39;00m \u001B[38;5;21m_calculate_fingerprint\u001B[39m(\n\u001B[0;32m     60\u001B[0m     \u001B[38;5;28mself\u001B[39m, X: Union[pd\u001B[38;5;241m.\u001B[39mDataFrame, np\u001B[38;5;241m.\u001B[39mndarray]\n\u001B[0;32m     61\u001B[0m ) \u001B[38;5;241m-\u001B[39m\u001B[38;5;241m>\u001B[39m np\u001B[38;5;241m.\u001B[39mndarray:\n\u001B[1;32m---> 62\u001B[0m     X \u001B[38;5;241m=\u001B[39m \u001B[38;5;28;43mself\u001B[39;49m\u001B[38;5;241;43m.\u001B[39;49m\u001B[43m_validate_input\u001B[49m\u001B[43m(\u001B[49m\u001B[43mX\u001B[49m\u001B[43m)\u001B[49m\n\u001B[0;32m     63\u001B[0m     \u001B[38;5;28;01mreturn\u001B[39;00m \u001B[38;5;28mself\u001B[39m\u001B[38;5;241m.\u001B[39m_generate_fingerprints(X)\n",
      "File \u001B[1;32m~\\Desktop\\zajecia\\emf\\base.py:79\u001B[0m, in \u001B[0;36mFingerprintTransformer._validate_input\u001B[1;34m(self, X)\u001B[0m\n\u001B[0;32m     69\u001B[0m \u001B[38;5;28;01mif\u001B[39;00m \u001B[38;5;129;01mnot\u001B[39;00m \u001B[38;5;28mall\u001B[39m(\n\u001B[0;32m     70\u001B[0m     [\n\u001B[0;32m     71\u001B[0m         \u001B[38;5;28misinstance\u001B[39m(molecule, Mol) \u001B[38;5;129;01mor\u001B[39;00m \u001B[38;5;28mtype\u001B[39m(molecule) \u001B[38;5;241m==\u001B[39m \u001B[38;5;28mstr\u001B[39m\n\u001B[0;32m     72\u001B[0m         \u001B[38;5;28;01mfor\u001B[39;00m molecule \u001B[38;5;129;01min\u001B[39;00m X\n\u001B[0;32m     73\u001B[0m     ]\n\u001B[0;32m     74\u001B[0m ):\n\u001B[0;32m     75\u001B[0m     \u001B[38;5;28;01mraise\u001B[39;00m \u001B[38;5;167;01mValueError\u001B[39;00m(\n\u001B[0;32m     76\u001B[0m         \u001B[38;5;124m\"\u001B[39m\u001B[38;5;124mPassed value is neither rdkit.Chem.rdChem.Mol nor SMILES\u001B[39m\u001B[38;5;124m\"\u001B[39m\n\u001B[0;32m     77\u001B[0m     )\n\u001B[1;32m---> 79\u001B[0m X \u001B[38;5;241m=\u001B[39m \u001B[43m[\u001B[49m\u001B[43mMolFromSmiles\u001B[49m\u001B[43m(\u001B[49m\u001B[43mx\u001B[49m\u001B[43m)\u001B[49m\u001B[43m \u001B[49m\u001B[38;5;28;43;01mif\u001B[39;49;00m\u001B[43m \u001B[49m\u001B[38;5;28;43mtype\u001B[39;49m\u001B[43m(\u001B[49m\u001B[43mx\u001B[49m\u001B[43m)\u001B[49m\u001B[43m \u001B[49m\u001B[38;5;241;43m==\u001B[39;49m\u001B[43m \u001B[49m\u001B[38;5;28;43mstr\u001B[39;49m\u001B[43m \u001B[49m\u001B[38;5;28;43;01melse\u001B[39;49;00m\u001B[43m \u001B[49m\u001B[43mx\u001B[49m\u001B[43m \u001B[49m\u001B[38;5;28;43;01mfor\u001B[39;49;00m\u001B[43m \u001B[49m\u001B[43mx\u001B[49m\u001B[43m \u001B[49m\u001B[38;5;129;43;01min\u001B[39;49;00m\u001B[43m \u001B[49m\u001B[43mX\u001B[49m\u001B[43m]\u001B[49m\n\u001B[0;32m     80\u001B[0m \u001B[38;5;28;01mreturn\u001B[39;00m X\n",
      "File \u001B[1;32m~\\Desktop\\zajecia\\emf\\base.py:79\u001B[0m, in \u001B[0;36m<listcomp>\u001B[1;34m(.0)\u001B[0m\n\u001B[0;32m     69\u001B[0m \u001B[38;5;28;01mif\u001B[39;00m \u001B[38;5;129;01mnot\u001B[39;00m \u001B[38;5;28mall\u001B[39m(\n\u001B[0;32m     70\u001B[0m     [\n\u001B[0;32m     71\u001B[0m         \u001B[38;5;28misinstance\u001B[39m(molecule, Mol) \u001B[38;5;129;01mor\u001B[39;00m \u001B[38;5;28mtype\u001B[39m(molecule) \u001B[38;5;241m==\u001B[39m \u001B[38;5;28mstr\u001B[39m\n\u001B[0;32m     72\u001B[0m         \u001B[38;5;28;01mfor\u001B[39;00m molecule \u001B[38;5;129;01min\u001B[39;00m X\n\u001B[0;32m     73\u001B[0m     ]\n\u001B[0;32m     74\u001B[0m ):\n\u001B[0;32m     75\u001B[0m     \u001B[38;5;28;01mraise\u001B[39;00m \u001B[38;5;167;01mValueError\u001B[39;00m(\n\u001B[0;32m     76\u001B[0m         \u001B[38;5;124m\"\u001B[39m\u001B[38;5;124mPassed value is neither rdkit.Chem.rdChem.Mol nor SMILES\u001B[39m\u001B[38;5;124m\"\u001B[39m\n\u001B[0;32m     77\u001B[0m     )\n\u001B[1;32m---> 79\u001B[0m X \u001B[38;5;241m=\u001B[39m [MolFromSmiles(x) \u001B[38;5;28;01mif\u001B[39;00m \u001B[38;5;28mtype\u001B[39m(x) \u001B[38;5;241m==\u001B[39m \u001B[38;5;28mstr\u001B[39m \u001B[38;5;28;01melse\u001B[39;00m x \u001B[38;5;28;01mfor\u001B[39;00m x \u001B[38;5;129;01min\u001B[39;00m X]\n\u001B[0;32m     80\u001B[0m \u001B[38;5;28;01mreturn\u001B[39;00m X\n",
      "\u001B[1;31mKeyboardInterrupt\u001B[0m: "
     ]
    }
   ],
   "source": [
    "morgan_emf_times = [\n",
    "    [\n",
    "        [\n",
    "            get_times_emf(\n",
    "                MorganFingerprint,\n",
    "                sparse=sparse,\n",
    "                count=count,\n",
    "                n_jobs=n_cores,\n",
    "            )\n",
    "            for n_cores in N_CORES\n",
    "        ]\n",
    "        for sparse in SPARSE_TYPES\n",
    "    ]\n",
    "    for count in COUNT_TYPES\n",
    "]"
   ]
  },
  {
   "cell_type": "code",
   "execution_count": null,
   "id": "e03a31e0",
   "metadata": {
    "ExecuteTime": {
     "end_time": "2023-09-19T14:22:34.233913700Z",
     "start_time": "2023-09-19T14:22:34.224914400Z"
    }
   },
   "outputs": [],
   "source": [
    "generator = fpgens.GetMorganGenerator()\n",
    "\n",
    "morgan_rdkit_times = [\n",
    "    [\n",
    "            get_generator_times_rdkit(\n",
    "                generator,\n",
    "                sparse=sparse,\n",
    "                count=count,\n",
    "            )\n",
    "\n",
    "        for sparse in SPARSE_TYPES\n",
    "    ]\n",
    "    for count in COUNT_TYPES\n",
    "]"
   ]
  },
  {
   "cell_type": "code",
   "execution_count": null,
   "id": "269a60b2",
   "metadata": {
    "scrolled": false,
    "ExecuteTime": {
     "start_time": "2023-09-19T14:22:34.226913800Z"
    }
   },
   "outputs": [],
   "source": [
    "for count, i in enumerate(COUNT_TYPES):\n",
    "    for sparse, j in enumerate(SPARSE_TYPES):\n",
    "        plot_results(\n",
    "            morgan_emf_times[i][j],\n",
    "            morgan_rdkit_times[i][j],\n",
    "            \"Morgan Fingerprint\",\n",
    "            count,\n",
    "            sparse,\n",
    "        )"
   ]
  },
  {
   "cell_type": "markdown",
   "source": [
    "## Atom Pair"
   ],
   "metadata": {
    "collapsed": false
   },
   "id": "2aa7e357ffdfd83f"
  },
  {
   "cell_type": "code",
   "execution_count": null,
   "outputs": [],
   "source": [
    "atom_pair_emf_times = [\n",
    "    [\n",
    "        [\n",
    "            get_times_emf(\n",
    "                AtomPairFingerprint,\n",
    "                sparse=sparse,\n",
    "                count=count,\n",
    "                n_jobs=n_cores,\n",
    "            )\n",
    "            for n_cores in N_CORES\n",
    "        ]\n",
    "        for sparse in SPARSE_TYPES\n",
    "    ]\n",
    "    for count in COUNT_TYPES\n",
    "]"
   ],
   "metadata": {
    "collapsed": false,
    "ExecuteTime": {
     "start_time": "2023-09-19T14:22:34.227914200Z"
    }
   },
   "id": "8fab83d81a4c9d84"
  },
  {
   "cell_type": "code",
   "execution_count": null,
   "outputs": [],
   "source": [
    "generator = fpgens.GetAtomPairGenerator()\n",
    "\n",
    "atom_pair_rdkit_times = [\n",
    "    [\n",
    "            get_generator_times_rdkit(\n",
    "                generator,\n",
    "                sparse=sparse,\n",
    "                count=count,\n",
    "            )\n",
    "\n",
    "        for sparse in SPARSE_TYPES\n",
    "    ]\n",
    "    for count in COUNT_TYPES\n",
    "]"
   ],
   "metadata": {
    "collapsed": false,
    "ExecuteTime": {
     "start_time": "2023-09-19T14:22:34.229913700Z"
    }
   },
   "id": "1beefa2467ca0e82"
  },
  {
   "cell_type": "code",
   "execution_count": null,
   "outputs": [],
   "source": [
    "for count, i in enumerate(COUNT_TYPES):\n",
    "    for sparse, j in enumerate(SPARSE_TYPES):\n",
    "        plot_results(\n",
    "            atom_pair_emf_times[i][j],\n",
    "            atom_pair_rdkit_times[i][j],\n",
    "            \"Atom Pair Fingerprint\",\n",
    "            count,\n",
    "            sparse,\n",
    "        )"
   ],
   "metadata": {
    "collapsed": false,
    "ExecuteTime": {
     "start_time": "2023-09-19T14:22:34.231914100Z"
    }
   },
   "id": "fb260930392d743a"
  },
  {
   "cell_type": "markdown",
   "id": "7c244d14",
   "metadata": {},
   "source": [
    "## Topological Torsion"
   ]
  },
  {
   "cell_type": "code",
   "execution_count": null,
   "id": "8addc277",
   "metadata": {
    "scrolled": true,
    "ExecuteTime": {
     "start_time": "2023-09-19T14:22:34.232913800Z"
    }
   },
   "outputs": [],
   "source": [
    "topological_torsion_emf_times = [\n",
    "    [\n",
    "        [\n",
    "            get_times_emf(\n",
    "                AtomPairFingerprint,\n",
    "                sparse=sparse,\n",
    "                count=count,\n",
    "                n_jobs=n_cores,\n",
    "            )\n",
    "            for n_cores in N_CORES\n",
    "        ]\n",
    "        for sparse in SPARSE_TYPES\n",
    "    ]\n",
    "    for count in COUNT_TYPES\n",
    "]"
   ]
  },
  {
   "cell_type": "code",
   "execution_count": null,
   "id": "e1c2320b",
   "metadata": {
    "ExecuteTime": {
     "start_time": "2023-09-19T14:22:34.234914Z"
    }
   },
   "outputs": [],
   "source": [
    "generator = fpgens.GetTopologicalTorsionGenerator()\n",
    "\n",
    "topological_torsion_rdkit_times = [\n",
    "    [\n",
    "            get_generator_times_rdkit(\n",
    "                generator,\n",
    "                sparse=sparse,\n",
    "                count=count,\n",
    "            )\n",
    "\n",
    "        for sparse in SPARSE_TYPES\n",
    "    ]\n",
    "    for count in COUNT_TYPES\n",
    "]"
   ]
  },
  {
   "cell_type": "code",
   "execution_count": null,
   "id": "e4f67193",
   "metadata": {
    "scrolled": false,
    "ExecuteTime": {
     "start_time": "2023-09-19T14:22:34.235913800Z"
    }
   },
   "outputs": [],
   "source": [
    "for count, i in enumerate(COUNT_TYPES):\n",
    "    for sparse, j in enumerate(SPARSE_TYPES):\n",
    "        plot_results(\n",
    "            topological_torsion_emf_times[i][j],\n",
    "            topological_torsion_rdkit_times[i][j],\n",
    "            \"Topological Torsion Fingerprint\",\n",
    "            count,\n",
    "            sparse,\n",
    "        )"
   ]
  },
  {
   "cell_type": "markdown",
   "source": [
    "## MACCS Keys"
   ],
   "metadata": {
    "collapsed": false
   },
   "id": "8693e39272806d6a"
  },
  {
   "cell_type": "code",
   "execution_count": 36,
   "outputs": [
    {
     "name": "stderr",
     "output_type": "stream",
     "text": [
      "[18:38:43] WARNING: not removing hydrogen atom without neighbors\n",
      "[18:38:43] WARNING: not removing hydrogen atom without neighbors\n",
      "[18:39:42] WARNING: not removing hydrogen atom without neighbors\n",
      "[18:39:42] WARNING: not removing hydrogen atom without neighbors\n",
      "[18:40:42] WARNING: not removing hydrogen atom without neighbors\n",
      "[18:40:42] WARNING: not removing hydrogen atom without neighbors\n",
      "[18:41:42] WARNING: not removing hydrogen atom without neighbors\n",
      "[18:41:42] WARNING: not removing hydrogen atom without neighbors\n",
      "[18:42:42] WARNING: not removing hydrogen atom without neighbors\n",
      "[18:42:42] WARNING: not removing hydrogen atom without neighbors\n"
     ]
    },
    {
     "ename": "KeyboardInterrupt",
     "evalue": "",
     "output_type": "error",
     "traceback": [
      "\u001B[1;31m---------------------------------------------------------------------------\u001B[0m",
      "\u001B[1;31mKeyboardInterrupt\u001B[0m                         Traceback (most recent call last)",
      "Cell \u001B[1;32mIn[36], line 1\u001B[0m\n\u001B[1;32m----> 1\u001B[0m MACCSKeys_emf_times \u001B[38;5;241m=\u001B[39m \u001B[43m[\u001B[49m\u001B[43m[\u001B[49m\n\u001B[0;32m      2\u001B[0m \u001B[43m    \u001B[49m\u001B[43mget_times_emf\u001B[49m\u001B[43m(\u001B[49m\u001B[43mMACCSKeysFingerprint\u001B[49m\u001B[43m,\u001B[49m\u001B[43m \u001B[49m\u001B[43mn_jobs\u001B[49m\u001B[38;5;241;43m=\u001B[39;49m\u001B[43mn_cores\u001B[49m\u001B[43m,\u001B[49m\u001B[43m \u001B[49m\u001B[43msparse\u001B[49m\u001B[38;5;241;43m=\u001B[39;49m\u001B[43msparse\u001B[49m\u001B[43m)\u001B[49m\n\u001B[0;32m      3\u001B[0m \u001B[43m    \u001B[49m\u001B[38;5;28;43;01mfor\u001B[39;49;00m\u001B[43m \u001B[49m\u001B[43mn_cores\u001B[49m\u001B[43m \u001B[49m\u001B[38;5;129;43;01min\u001B[39;49;00m\u001B[43m \u001B[49m\u001B[43mN_CORES\u001B[49m\n\u001B[0;32m      4\u001B[0m \u001B[43m]\u001B[49m\u001B[38;5;28;43;01mfor\u001B[39;49;00m\u001B[43m \u001B[49m\u001B[43msparse\u001B[49m\u001B[43m \u001B[49m\u001B[38;5;129;43;01min\u001B[39;49;00m\u001B[43m \u001B[49m\u001B[43mSPARSE_TYPES\u001B[49m\u001B[43m]\u001B[49m\n",
      "Cell \u001B[1;32mIn[36], line 1\u001B[0m, in \u001B[0;36m<listcomp>\u001B[1;34m(.0)\u001B[0m\n\u001B[1;32m----> 1\u001B[0m MACCSKeys_emf_times \u001B[38;5;241m=\u001B[39m [\u001B[43m[\u001B[49m\n\u001B[0;32m      2\u001B[0m \u001B[43m    \u001B[49m\u001B[43mget_times_emf\u001B[49m\u001B[43m(\u001B[49m\u001B[43mMACCSKeysFingerprint\u001B[49m\u001B[43m,\u001B[49m\u001B[43m \u001B[49m\u001B[43mn_jobs\u001B[49m\u001B[38;5;241;43m=\u001B[39;49m\u001B[43mn_cores\u001B[49m\u001B[43m,\u001B[49m\u001B[43m \u001B[49m\u001B[43msparse\u001B[49m\u001B[38;5;241;43m=\u001B[39;49m\u001B[43msparse\u001B[49m\u001B[43m)\u001B[49m\n\u001B[0;32m      3\u001B[0m \u001B[43m    \u001B[49m\u001B[38;5;28;43;01mfor\u001B[39;49;00m\u001B[43m \u001B[49m\u001B[43mn_cores\u001B[49m\u001B[43m \u001B[49m\u001B[38;5;129;43;01min\u001B[39;49;00m\u001B[43m \u001B[49m\u001B[43mN_CORES\u001B[49m\n\u001B[0;32m      4\u001B[0m \u001B[43m]\u001B[49m\u001B[38;5;28;01mfor\u001B[39;00m sparse \u001B[38;5;129;01min\u001B[39;00m SPARSE_TYPES]\n",
      "Cell \u001B[1;32mIn[36], line 2\u001B[0m, in \u001B[0;36m<listcomp>\u001B[1;34m(.0)\u001B[0m\n\u001B[0;32m      1\u001B[0m MACCSKeys_emf_times \u001B[38;5;241m=\u001B[39m [[\n\u001B[1;32m----> 2\u001B[0m     \u001B[43mget_times_emf\u001B[49m\u001B[43m(\u001B[49m\u001B[43mMACCSKeysFingerprint\u001B[49m\u001B[43m,\u001B[49m\u001B[43m \u001B[49m\u001B[43mn_jobs\u001B[49m\u001B[38;5;241;43m=\u001B[39;49m\u001B[43mn_cores\u001B[49m\u001B[43m,\u001B[49m\u001B[43m \u001B[49m\u001B[43msparse\u001B[49m\u001B[38;5;241;43m=\u001B[39;49m\u001B[43msparse\u001B[49m\u001B[43m)\u001B[49m\n\u001B[0;32m      3\u001B[0m     \u001B[38;5;28;01mfor\u001B[39;00m n_cores \u001B[38;5;129;01min\u001B[39;00m N_CORES\n\u001B[0;32m      4\u001B[0m ]\u001B[38;5;28;01mfor\u001B[39;00m sparse \u001B[38;5;129;01min\u001B[39;00m SPARSE_TYPES]\n",
      "Cell \u001B[1;32mIn[10], line 10\u001B[0m, in \u001B[0;36mget_times_emf\u001B[1;34m(transformer_function, **kwargs)\u001B[0m\n\u001B[0;32m      8\u001B[0m \u001B[38;5;28;01mfor\u001B[39;00m i \u001B[38;5;129;01min\u001B[39;00m \u001B[38;5;28mrange\u001B[39m(N_REPEATS):\n\u001B[0;32m      9\u001B[0m     start \u001B[38;5;241m=\u001B[39m time()\n\u001B[1;32m---> 10\u001B[0m     X_transformed \u001B[38;5;241m=\u001B[39m \u001B[43memf_transformer\u001B[49m\u001B[38;5;241;43m.\u001B[39;49m\u001B[43mtransform\u001B[49m\u001B[43m(\u001B[49m\u001B[43msubset\u001B[49m\u001B[43m)\u001B[49m\n\u001B[0;32m     11\u001B[0m     end \u001B[38;5;241m=\u001B[39m time()\n\u001B[0;32m     12\u001B[0m     times[i] \u001B[38;5;241m=\u001B[39m end \u001B[38;5;241m-\u001B[39m start\n",
      "File \u001B[1;32m~\\AppData\\Roaming\\Python\\Python311\\site-packages\\sklearn\\utils\\_set_output.py:140\u001B[0m, in \u001B[0;36m_wrap_method_output.<locals>.wrapped\u001B[1;34m(self, X, *args, **kwargs)\u001B[0m\n\u001B[0;32m    138\u001B[0m \u001B[38;5;129m@wraps\u001B[39m(f)\n\u001B[0;32m    139\u001B[0m \u001B[38;5;28;01mdef\u001B[39;00m \u001B[38;5;21mwrapped\u001B[39m(\u001B[38;5;28mself\u001B[39m, X, \u001B[38;5;241m*\u001B[39margs, \u001B[38;5;241m*\u001B[39m\u001B[38;5;241m*\u001B[39mkwargs):\n\u001B[1;32m--> 140\u001B[0m     data_to_wrap \u001B[38;5;241m=\u001B[39m \u001B[43mf\u001B[49m\u001B[43m(\u001B[49m\u001B[38;5;28;43mself\u001B[39;49m\u001B[43m,\u001B[49m\u001B[43m \u001B[49m\u001B[43mX\u001B[49m\u001B[43m,\u001B[49m\u001B[43m \u001B[49m\u001B[38;5;241;43m*\u001B[39;49m\u001B[43margs\u001B[49m\u001B[43m,\u001B[49m\u001B[43m \u001B[49m\u001B[38;5;241;43m*\u001B[39;49m\u001B[38;5;241;43m*\u001B[39;49m\u001B[43mkwargs\u001B[49m\u001B[43m)\u001B[49m\n\u001B[0;32m    141\u001B[0m     \u001B[38;5;28;01mif\u001B[39;00m \u001B[38;5;28misinstance\u001B[39m(data_to_wrap, \u001B[38;5;28mtuple\u001B[39m):\n\u001B[0;32m    142\u001B[0m         \u001B[38;5;66;03m# only wrap the first output for cross decomposition\u001B[39;00m\n\u001B[0;32m    143\u001B[0m         return_tuple \u001B[38;5;241m=\u001B[39m (\n\u001B[0;32m    144\u001B[0m             _wrap_data_with_container(method, data_to_wrap[\u001B[38;5;241m0\u001B[39m], X, \u001B[38;5;28mself\u001B[39m),\n\u001B[0;32m    145\u001B[0m             \u001B[38;5;241m*\u001B[39mdata_to_wrap[\u001B[38;5;241m1\u001B[39m:],\n\u001B[0;32m    146\u001B[0m         )\n",
      "File \u001B[1;32m~\\Desktop\\zajecia\\emf\\base.py:48\u001B[0m, in \u001B[0;36mFingerprintTransformer.transform\u001B[1;34m(self, X)\u001B[0m\n\u001B[0;32m     42\u001B[0m batch_size \u001B[38;5;241m=\u001B[39m \u001B[38;5;28mmax\u001B[39m(\u001B[38;5;28mlen\u001B[39m(X) \u001B[38;5;241m/\u001B[39m\u001B[38;5;241m/\u001B[39m \u001B[38;5;28mself\u001B[39m\u001B[38;5;241m.\u001B[39mn_jobs, \u001B[38;5;241m1\u001B[39m)\n\u001B[0;32m     44\u001B[0m args \u001B[38;5;241m=\u001B[39m (\n\u001B[0;32m     45\u001B[0m     X[i : i \u001B[38;5;241m+\u001B[39m batch_size] \u001B[38;5;28;01mfor\u001B[39;00m i \u001B[38;5;129;01min\u001B[39;00m \u001B[38;5;28mrange\u001B[39m(\u001B[38;5;241m0\u001B[39m, \u001B[38;5;28mlen\u001B[39m(X), batch_size)\n\u001B[0;32m     46\u001B[0m )\n\u001B[1;32m---> 48\u001B[0m results \u001B[38;5;241m=\u001B[39m \u001B[43mParallel\u001B[49m\u001B[43m(\u001B[49m\u001B[43mn_jobs\u001B[49m\u001B[38;5;241;43m=\u001B[39;49m\u001B[38;5;28;43mself\u001B[39;49m\u001B[38;5;241;43m.\u001B[39;49m\u001B[43mn_jobs\u001B[49m\u001B[43m)\u001B[49m\u001B[43m(\u001B[49m\n\u001B[0;32m     49\u001B[0m \u001B[43m    \u001B[49m\u001B[43mdelayed\u001B[49m\u001B[43m(\u001B[49m\u001B[38;5;28;43mself\u001B[39;49m\u001B[38;5;241;43m.\u001B[39;49m\u001B[43m_calculate_fingerprint\u001B[49m\u001B[43m)\u001B[49m\u001B[43m(\u001B[49m\u001B[43mX_sub\u001B[49m\u001B[43m)\u001B[49m\u001B[43m \u001B[49m\u001B[38;5;28;43;01mfor\u001B[39;49;00m\u001B[43m \u001B[49m\u001B[43mX_sub\u001B[49m\u001B[43m \u001B[49m\u001B[38;5;129;43;01min\u001B[39;49;00m\u001B[43m \u001B[49m\u001B[43margs\u001B[49m\n\u001B[0;32m     50\u001B[0m \u001B[43m\u001B[49m\u001B[43m)\u001B[49m\n\u001B[0;32m     51\u001B[0m \u001B[38;5;28;01mif\u001B[39;00m \u001B[38;5;28misinstance\u001B[39m(results[\u001B[38;5;241m0\u001B[39m], spsparse\u001B[38;5;241m.\u001B[39mcsr_array):\n\u001B[0;32m     52\u001B[0m     \u001B[38;5;28;01mreturn\u001B[39;00m spsparse\u001B[38;5;241m.\u001B[39mvstack(results)\n",
      "File \u001B[1;32m~\\AppData\\Local\\Programs\\Python\\Python311\\Lib\\site-packages\\joblib\\parallel.py:1952\u001B[0m, in \u001B[0;36mParallel.__call__\u001B[1;34m(self, iterable)\u001B[0m\n\u001B[0;32m   1946\u001B[0m \u001B[38;5;66;03m# The first item from the output is blank, but it makes the interpreter\u001B[39;00m\n\u001B[0;32m   1947\u001B[0m \u001B[38;5;66;03m# progress until it enters the Try/Except block of the generator and\u001B[39;00m\n\u001B[0;32m   1948\u001B[0m \u001B[38;5;66;03m# reach the first `yield` statement. This starts the aynchronous\u001B[39;00m\n\u001B[0;32m   1949\u001B[0m \u001B[38;5;66;03m# dispatch of the tasks to the workers.\u001B[39;00m\n\u001B[0;32m   1950\u001B[0m \u001B[38;5;28mnext\u001B[39m(output)\n\u001B[1;32m-> 1952\u001B[0m \u001B[38;5;28;01mreturn\u001B[39;00m output \u001B[38;5;28;01mif\u001B[39;00m \u001B[38;5;28mself\u001B[39m\u001B[38;5;241m.\u001B[39mreturn_generator \u001B[38;5;28;01melse\u001B[39;00m \u001B[38;5;28mlist\u001B[39m(output)\n",
      "File \u001B[1;32m~\\AppData\\Local\\Programs\\Python\\Python311\\Lib\\site-packages\\joblib\\parallel.py:1595\u001B[0m, in \u001B[0;36mParallel._get_outputs\u001B[1;34m(self, iterator, pre_dispatch)\u001B[0m\n\u001B[0;32m   1592\u001B[0m     \u001B[38;5;28;01myield\u001B[39;00m\n\u001B[0;32m   1594\u001B[0m     \u001B[38;5;28;01mwith\u001B[39;00m \u001B[38;5;28mself\u001B[39m\u001B[38;5;241m.\u001B[39m_backend\u001B[38;5;241m.\u001B[39mretrieval_context():\n\u001B[1;32m-> 1595\u001B[0m         \u001B[38;5;28;01myield from\u001B[39;00m \u001B[38;5;28mself\u001B[39m\u001B[38;5;241m.\u001B[39m_retrieve()\n\u001B[0;32m   1597\u001B[0m \u001B[38;5;28;01mexcept\u001B[39;00m \u001B[38;5;167;01mGeneratorExit\u001B[39;00m:\n\u001B[0;32m   1598\u001B[0m     \u001B[38;5;66;03m# The generator has been garbage collected before being fully\u001B[39;00m\n\u001B[0;32m   1599\u001B[0m     \u001B[38;5;66;03m# consumed. This aborts the remaining tasks if possible and warn\u001B[39;00m\n\u001B[0;32m   1600\u001B[0m     \u001B[38;5;66;03m# the user if necessary.\u001B[39;00m\n\u001B[0;32m   1601\u001B[0m     \u001B[38;5;28mself\u001B[39m\u001B[38;5;241m.\u001B[39m_exception \u001B[38;5;241m=\u001B[39m \u001B[38;5;28;01mTrue\u001B[39;00m\n",
      "File \u001B[1;32m~\\AppData\\Local\\Programs\\Python\\Python311\\Lib\\site-packages\\joblib\\parallel.py:1707\u001B[0m, in \u001B[0;36mParallel._retrieve\u001B[1;34m(self)\u001B[0m\n\u001B[0;32m   1702\u001B[0m \u001B[38;5;66;03m# If the next job is not ready for retrieval yet, we just wait for\u001B[39;00m\n\u001B[0;32m   1703\u001B[0m \u001B[38;5;66;03m# async callbacks to progress.\u001B[39;00m\n\u001B[0;32m   1704\u001B[0m \u001B[38;5;28;01mif\u001B[39;00m ((\u001B[38;5;28mlen\u001B[39m(\u001B[38;5;28mself\u001B[39m\u001B[38;5;241m.\u001B[39m_jobs) \u001B[38;5;241m==\u001B[39m \u001B[38;5;241m0\u001B[39m) \u001B[38;5;129;01mor\u001B[39;00m\n\u001B[0;32m   1705\u001B[0m     (\u001B[38;5;28mself\u001B[39m\u001B[38;5;241m.\u001B[39m_jobs[\u001B[38;5;241m0\u001B[39m]\u001B[38;5;241m.\u001B[39mget_status(\n\u001B[0;32m   1706\u001B[0m         timeout\u001B[38;5;241m=\u001B[39m\u001B[38;5;28mself\u001B[39m\u001B[38;5;241m.\u001B[39mtimeout) \u001B[38;5;241m==\u001B[39m TASK_PENDING)):\n\u001B[1;32m-> 1707\u001B[0m     time\u001B[38;5;241m.\u001B[39msleep(\u001B[38;5;241m0.01\u001B[39m)\n\u001B[0;32m   1708\u001B[0m     \u001B[38;5;28;01mcontinue\u001B[39;00m\n\u001B[0;32m   1710\u001B[0m \u001B[38;5;66;03m# We need to be careful: the job list can be filling up as\u001B[39;00m\n\u001B[0;32m   1711\u001B[0m \u001B[38;5;66;03m# we empty it and Python list are not thread-safe by\u001B[39;00m\n\u001B[0;32m   1712\u001B[0m \u001B[38;5;66;03m# default hence the use of the lock\u001B[39;00m\n",
      "\u001B[1;31mKeyboardInterrupt\u001B[0m: "
     ]
    }
   ],
   "source": [
    "MACCSKeys_emf_times = [[\n",
    "    get_times_emf(MACCSKeysFingerprint, n_jobs=n_cores, sparse=sparse)\n",
    "    for n_cores in N_CORES\n",
    "]for sparse in SPARSE_TYPES]"
   ],
   "metadata": {
    "collapsed": false,
    "ExecuteTime": {
     "end_time": "2023-09-19T16:48:13.089448700Z",
     "start_time": "2023-09-19T16:28:53.449725900Z"
    }
   },
   "id": "71fa9fcd2a2e0f94"
  },
  {
   "cell_type": "code",
   "execution_count": null,
   "outputs": [],
   "source": [
    "from rdkit.Chem.rdMolDescriptors import GetMACCSKeysFingerprint\n",
    "\n",
    "MACCSKeys_rdkit_times = [ get_times_rdkit(\n",
    "    GetMACCSKeysFingerprint, sparse=sparse) for sparse in SPARSE_TYPES]"
   ],
   "metadata": {
    "collapsed": false,
    "ExecuteTime": {
     "end_time": "2023-09-19T16:48:13.091448800Z",
     "start_time": "2023-09-19T16:48:13.091448800Z"
    }
   },
   "id": "d6289c45591d873d"
  },
  {
   "cell_type": "code",
   "execution_count": null,
   "outputs": [],
   "source": [
    "for sparse, i in enumerate(SPARSE_TYPES):\n",
    "    plot_results(\n",
    "        MACCSKeys_emf_times[i],\n",
    "        MACCSKeys_rdkit_times[i],\n",
    "        \"MACCKeys fingerprint\",\n",
    "        count=None,\n",
    "        sparse=sparse,\n",
    "    )"
   ],
   "metadata": {
    "collapsed": false,
    "ExecuteTime": {
     "start_time": "2023-09-19T16:48:13.091448800Z"
    }
   },
   "id": "210552eb76ead987"
  },
  {
   "cell_type": "markdown",
   "id": "f6431da6",
   "metadata": {},
   "source": [
    "## ERG Fingerprint"
   ]
  },
  {
   "cell_type": "code",
   "execution_count": 35,
   "id": "5a239fad",
   "metadata": {
    "ExecuteTime": {
     "end_time": "2023-09-19T16:28:42.717685Z",
     "start_time": "2023-09-19T16:28:39.811615700Z"
    }
   },
   "outputs": [
    {
     "ename": "KeyboardInterrupt",
     "evalue": "",
     "output_type": "error",
     "traceback": [
      "\u001B[1;31m---------------------------------------------------------------------------\u001B[0m",
      "\u001B[1;31mKeyboardInterrupt\u001B[0m                         Traceback (most recent call last)",
      "Cell \u001B[1;32mIn[35], line 1\u001B[0m\n\u001B[1;32m----> 1\u001B[0m ERG_emf_times \u001B[38;5;241m=\u001B[39m \u001B[43m[\u001B[49m\u001B[43m[\u001B[49m\n\u001B[0;32m      2\u001B[0m \u001B[43m    \u001B[49m\u001B[43mget_times_emf\u001B[49m\u001B[43m(\u001B[49m\u001B[43mERGFingerprint\u001B[49m\u001B[43m,\u001B[49m\u001B[43m \u001B[49m\u001B[43mn_jobs\u001B[49m\u001B[38;5;241;43m=\u001B[39;49m\u001B[43mn_cores\u001B[49m\u001B[43m,\u001B[49m\u001B[43msparse\u001B[49m\u001B[38;5;241;43m=\u001B[39;49m\u001B[43msparse\u001B[49m\u001B[43m)\u001B[49m\n\u001B[0;32m      3\u001B[0m \u001B[43m    \u001B[49m\u001B[38;5;28;43;01mfor\u001B[39;49;00m\u001B[43m \u001B[49m\u001B[43mn_cores\u001B[49m\u001B[43m \u001B[49m\u001B[38;5;129;43;01min\u001B[39;49;00m\u001B[43m \u001B[49m\u001B[43mN_CORES\u001B[49m\n\u001B[0;32m      4\u001B[0m \u001B[43m]\u001B[49m\u001B[38;5;28;43;01mfor\u001B[39;49;00m\u001B[43m \u001B[49m\u001B[43msparse\u001B[49m\u001B[43m \u001B[49m\u001B[38;5;129;43;01min\u001B[39;49;00m\u001B[43m \u001B[49m\u001B[43mSPARSE_TYPES\u001B[49m\u001B[43m]\u001B[49m\n",
      "Cell \u001B[1;32mIn[35], line 1\u001B[0m, in \u001B[0;36m<listcomp>\u001B[1;34m(.0)\u001B[0m\n\u001B[1;32m----> 1\u001B[0m ERG_emf_times \u001B[38;5;241m=\u001B[39m [\u001B[43m[\u001B[49m\n\u001B[0;32m      2\u001B[0m \u001B[43m    \u001B[49m\u001B[43mget_times_emf\u001B[49m\u001B[43m(\u001B[49m\u001B[43mERGFingerprint\u001B[49m\u001B[43m,\u001B[49m\u001B[43m \u001B[49m\u001B[43mn_jobs\u001B[49m\u001B[38;5;241;43m=\u001B[39;49m\u001B[43mn_cores\u001B[49m\u001B[43m,\u001B[49m\u001B[43msparse\u001B[49m\u001B[38;5;241;43m=\u001B[39;49m\u001B[43msparse\u001B[49m\u001B[43m)\u001B[49m\n\u001B[0;32m      3\u001B[0m \u001B[43m    \u001B[49m\u001B[38;5;28;43;01mfor\u001B[39;49;00m\u001B[43m \u001B[49m\u001B[43mn_cores\u001B[49m\u001B[43m \u001B[49m\u001B[38;5;129;43;01min\u001B[39;49;00m\u001B[43m \u001B[49m\u001B[43mN_CORES\u001B[49m\n\u001B[0;32m      4\u001B[0m \u001B[43m]\u001B[49m\u001B[38;5;28;01mfor\u001B[39;00m sparse \u001B[38;5;129;01min\u001B[39;00m SPARSE_TYPES]\n",
      "Cell \u001B[1;32mIn[35], line 2\u001B[0m, in \u001B[0;36m<listcomp>\u001B[1;34m(.0)\u001B[0m\n\u001B[0;32m      1\u001B[0m ERG_emf_times \u001B[38;5;241m=\u001B[39m [[\n\u001B[1;32m----> 2\u001B[0m     \u001B[43mget_times_emf\u001B[49m\u001B[43m(\u001B[49m\u001B[43mERGFingerprint\u001B[49m\u001B[43m,\u001B[49m\u001B[43m \u001B[49m\u001B[43mn_jobs\u001B[49m\u001B[38;5;241;43m=\u001B[39;49m\u001B[43mn_cores\u001B[49m\u001B[43m,\u001B[49m\u001B[43msparse\u001B[49m\u001B[38;5;241;43m=\u001B[39;49m\u001B[43msparse\u001B[49m\u001B[43m)\u001B[49m\n\u001B[0;32m      3\u001B[0m     \u001B[38;5;28;01mfor\u001B[39;00m n_cores \u001B[38;5;129;01min\u001B[39;00m N_CORES\n\u001B[0;32m      4\u001B[0m ]\u001B[38;5;28;01mfor\u001B[39;00m sparse \u001B[38;5;129;01min\u001B[39;00m SPARSE_TYPES]\n",
      "Cell \u001B[1;32mIn[10], line 10\u001B[0m, in \u001B[0;36mget_times_emf\u001B[1;34m(transformer_function, **kwargs)\u001B[0m\n\u001B[0;32m      8\u001B[0m \u001B[38;5;28;01mfor\u001B[39;00m i \u001B[38;5;129;01min\u001B[39;00m \u001B[38;5;28mrange\u001B[39m(N_REPEATS):\n\u001B[0;32m      9\u001B[0m     start \u001B[38;5;241m=\u001B[39m time()\n\u001B[1;32m---> 10\u001B[0m     X_transformed \u001B[38;5;241m=\u001B[39m \u001B[43memf_transformer\u001B[49m\u001B[38;5;241;43m.\u001B[39;49m\u001B[43mtransform\u001B[49m\u001B[43m(\u001B[49m\u001B[43msubset\u001B[49m\u001B[43m)\u001B[49m\n\u001B[0;32m     11\u001B[0m     end \u001B[38;5;241m=\u001B[39m time()\n\u001B[0;32m     12\u001B[0m     times[i] \u001B[38;5;241m=\u001B[39m end \u001B[38;5;241m-\u001B[39m start\n",
      "File \u001B[1;32m~\\AppData\\Roaming\\Python\\Python311\\site-packages\\sklearn\\utils\\_set_output.py:140\u001B[0m, in \u001B[0;36m_wrap_method_output.<locals>.wrapped\u001B[1;34m(self, X, *args, **kwargs)\u001B[0m\n\u001B[0;32m    138\u001B[0m \u001B[38;5;129m@wraps\u001B[39m(f)\n\u001B[0;32m    139\u001B[0m \u001B[38;5;28;01mdef\u001B[39;00m \u001B[38;5;21mwrapped\u001B[39m(\u001B[38;5;28mself\u001B[39m, X, \u001B[38;5;241m*\u001B[39margs, \u001B[38;5;241m*\u001B[39m\u001B[38;5;241m*\u001B[39mkwargs):\n\u001B[1;32m--> 140\u001B[0m     data_to_wrap \u001B[38;5;241m=\u001B[39m \u001B[43mf\u001B[49m\u001B[43m(\u001B[49m\u001B[38;5;28;43mself\u001B[39;49m\u001B[43m,\u001B[49m\u001B[43m \u001B[49m\u001B[43mX\u001B[49m\u001B[43m,\u001B[49m\u001B[43m \u001B[49m\u001B[38;5;241;43m*\u001B[39;49m\u001B[43margs\u001B[49m\u001B[43m,\u001B[49m\u001B[43m \u001B[49m\u001B[38;5;241;43m*\u001B[39;49m\u001B[38;5;241;43m*\u001B[39;49m\u001B[43mkwargs\u001B[49m\u001B[43m)\u001B[49m\n\u001B[0;32m    141\u001B[0m     \u001B[38;5;28;01mif\u001B[39;00m \u001B[38;5;28misinstance\u001B[39m(data_to_wrap, \u001B[38;5;28mtuple\u001B[39m):\n\u001B[0;32m    142\u001B[0m         \u001B[38;5;66;03m# only wrap the first output for cross decomposition\u001B[39;00m\n\u001B[0;32m    143\u001B[0m         return_tuple \u001B[38;5;241m=\u001B[39m (\n\u001B[0;32m    144\u001B[0m             _wrap_data_with_container(method, data_to_wrap[\u001B[38;5;241m0\u001B[39m], X, \u001B[38;5;28mself\u001B[39m),\n\u001B[0;32m    145\u001B[0m             \u001B[38;5;241m*\u001B[39mdata_to_wrap[\u001B[38;5;241m1\u001B[39m:],\n\u001B[0;32m    146\u001B[0m         )\n",
      "File \u001B[1;32m~\\Desktop\\zajecia\\emf\\base.py:40\u001B[0m, in \u001B[0;36mFingerprintTransformer.transform\u001B[1;34m(self, X)\u001B[0m\n\u001B[0;32m     34\u001B[0m \u001B[38;5;250m\u001B[39m\u001B[38;5;124;03m\"\"\"\u001B[39;00m\n\u001B[0;32m     35\u001B[0m \u001B[38;5;124;03m:param X: np.array or DataFrame of rdkit.Mol objects\u001B[39;00m\n\u001B[0;32m     36\u001B[0m \u001B[38;5;124;03m:return: np.array or sparse array of calculated fingerprints for each molecule\u001B[39;00m\n\u001B[0;32m     37\u001B[0m \u001B[38;5;124;03m\"\"\"\u001B[39;00m\n\u001B[0;32m     39\u001B[0m \u001B[38;5;28;01mif\u001B[39;00m \u001B[38;5;28mself\u001B[39m\u001B[38;5;241m.\u001B[39mn_jobs \u001B[38;5;241m==\u001B[39m \u001B[38;5;241m1\u001B[39m:\n\u001B[1;32m---> 40\u001B[0m     \u001B[38;5;28;01mreturn\u001B[39;00m \u001B[38;5;28;43mself\u001B[39;49m\u001B[38;5;241;43m.\u001B[39;49m\u001B[43m_calculate_fingerprint\u001B[49m\u001B[43m(\u001B[49m\u001B[43mX\u001B[49m\u001B[43m)\u001B[49m\n\u001B[0;32m     41\u001B[0m \u001B[38;5;28;01melse\u001B[39;00m:\n\u001B[0;32m     42\u001B[0m     batch_size \u001B[38;5;241m=\u001B[39m \u001B[38;5;28mmax\u001B[39m(\u001B[38;5;28mlen\u001B[39m(X) \u001B[38;5;241m/\u001B[39m\u001B[38;5;241m/\u001B[39m \u001B[38;5;28mself\u001B[39m\u001B[38;5;241m.\u001B[39mn_jobs, \u001B[38;5;241m1\u001B[39m)\n",
      "File \u001B[1;32m~\\Desktop\\zajecia\\emf\\featurizers\\fingerprints.py:189\u001B[0m, in \u001B[0;36mERGFingerprint._calculate_fingerprint\u001B[1;34m(self, X)\u001B[0m\n\u001B[0;32m    186\u001B[0m \u001B[38;5;28;01mdef\u001B[39;00m \u001B[38;5;21m_calculate_fingerprint\u001B[39m(\n\u001B[0;32m    187\u001B[0m     \u001B[38;5;28mself\u001B[39m, X: Union[pd\u001B[38;5;241m.\u001B[39mDataFrame, np\u001B[38;5;241m.\u001B[39mndarray]\n\u001B[0;32m    188\u001B[0m ) \u001B[38;5;241m-\u001B[39m\u001B[38;5;241m>\u001B[39m np\u001B[38;5;241m.\u001B[39mndarray:\n\u001B[1;32m--> 189\u001B[0m     X \u001B[38;5;241m=\u001B[39m \u001B[38;5;28;43mself\u001B[39;49m\u001B[38;5;241;43m.\u001B[39;49m\u001B[43m_validate_input\u001B[49m\u001B[43m(\u001B[49m\u001B[43mX\u001B[49m\u001B[43m)\u001B[49m\n\u001B[0;32m    190\u001B[0m     \u001B[38;5;28;01mfrom\u001B[39;00m \u001B[38;5;21;01mrdkit\u001B[39;00m\u001B[38;5;21;01m.\u001B[39;00m\u001B[38;5;21;01mChem\u001B[39;00m\u001B[38;5;21;01m.\u001B[39;00m\u001B[38;5;21;01mrdReducedGraphs\u001B[39;00m \u001B[38;5;28;01mimport\u001B[39;00m GetErGFingerprint\n\u001B[0;32m    192\u001B[0m     X \u001B[38;5;241m=\u001B[39m [\n\u001B[0;32m    193\u001B[0m         GetErGFingerprint(\n\u001B[0;32m    194\u001B[0m             x,\n\u001B[1;32m   (...)\u001B[0m\n\u001B[0;32m    200\u001B[0m         \u001B[38;5;28;01mfor\u001B[39;00m x \u001B[38;5;129;01min\u001B[39;00m X\n\u001B[0;32m    201\u001B[0m     ]\n",
      "File \u001B[1;32m~\\Desktop\\zajecia\\emf\\base.py:79\u001B[0m, in \u001B[0;36mFingerprintTransformer._validate_input\u001B[1;34m(self, X)\u001B[0m\n\u001B[0;32m     69\u001B[0m \u001B[38;5;28;01mif\u001B[39;00m \u001B[38;5;129;01mnot\u001B[39;00m \u001B[38;5;28mall\u001B[39m(\n\u001B[0;32m     70\u001B[0m     [\n\u001B[0;32m     71\u001B[0m         \u001B[38;5;28misinstance\u001B[39m(molecule, Mol) \u001B[38;5;129;01mor\u001B[39;00m \u001B[38;5;28mtype\u001B[39m(molecule) \u001B[38;5;241m==\u001B[39m \u001B[38;5;28mstr\u001B[39m\n\u001B[0;32m     72\u001B[0m         \u001B[38;5;28;01mfor\u001B[39;00m molecule \u001B[38;5;129;01min\u001B[39;00m X\n\u001B[0;32m     73\u001B[0m     ]\n\u001B[0;32m     74\u001B[0m ):\n\u001B[0;32m     75\u001B[0m     \u001B[38;5;28;01mraise\u001B[39;00m \u001B[38;5;167;01mValueError\u001B[39;00m(\n\u001B[0;32m     76\u001B[0m         \u001B[38;5;124m\"\u001B[39m\u001B[38;5;124mPassed value is neither rdkit.Chem.rdChem.Mol nor SMILES\u001B[39m\u001B[38;5;124m\"\u001B[39m\n\u001B[0;32m     77\u001B[0m     )\n\u001B[1;32m---> 79\u001B[0m X \u001B[38;5;241m=\u001B[39m \u001B[43m[\u001B[49m\u001B[43mMolFromSmiles\u001B[49m\u001B[43m(\u001B[49m\u001B[43mx\u001B[49m\u001B[43m)\u001B[49m\u001B[43m \u001B[49m\u001B[38;5;28;43;01mif\u001B[39;49;00m\u001B[43m \u001B[49m\u001B[38;5;28;43mtype\u001B[39;49m\u001B[43m(\u001B[49m\u001B[43mx\u001B[49m\u001B[43m)\u001B[49m\u001B[43m \u001B[49m\u001B[38;5;241;43m==\u001B[39;49m\u001B[43m \u001B[49m\u001B[38;5;28;43mstr\u001B[39;49m\u001B[43m \u001B[49m\u001B[38;5;28;43;01melse\u001B[39;49;00m\u001B[43m \u001B[49m\u001B[43mx\u001B[49m\u001B[43m \u001B[49m\u001B[38;5;28;43;01mfor\u001B[39;49;00m\u001B[43m \u001B[49m\u001B[43mx\u001B[49m\u001B[43m \u001B[49m\u001B[38;5;129;43;01min\u001B[39;49;00m\u001B[43m \u001B[49m\u001B[43mX\u001B[49m\u001B[43m]\u001B[49m\n\u001B[0;32m     80\u001B[0m \u001B[38;5;28;01mreturn\u001B[39;00m X\n",
      "File \u001B[1;32m~\\Desktop\\zajecia\\emf\\base.py:79\u001B[0m, in \u001B[0;36m<listcomp>\u001B[1;34m(.0)\u001B[0m\n\u001B[0;32m     69\u001B[0m \u001B[38;5;28;01mif\u001B[39;00m \u001B[38;5;129;01mnot\u001B[39;00m \u001B[38;5;28mall\u001B[39m(\n\u001B[0;32m     70\u001B[0m     [\n\u001B[0;32m     71\u001B[0m         \u001B[38;5;28misinstance\u001B[39m(molecule, Mol) \u001B[38;5;129;01mor\u001B[39;00m \u001B[38;5;28mtype\u001B[39m(molecule) \u001B[38;5;241m==\u001B[39m \u001B[38;5;28mstr\u001B[39m\n\u001B[0;32m     72\u001B[0m         \u001B[38;5;28;01mfor\u001B[39;00m molecule \u001B[38;5;129;01min\u001B[39;00m X\n\u001B[0;32m     73\u001B[0m     ]\n\u001B[0;32m     74\u001B[0m ):\n\u001B[0;32m     75\u001B[0m     \u001B[38;5;28;01mraise\u001B[39;00m \u001B[38;5;167;01mValueError\u001B[39;00m(\n\u001B[0;32m     76\u001B[0m         \u001B[38;5;124m\"\u001B[39m\u001B[38;5;124mPassed value is neither rdkit.Chem.rdChem.Mol nor SMILES\u001B[39m\u001B[38;5;124m\"\u001B[39m\n\u001B[0;32m     77\u001B[0m     )\n\u001B[1;32m---> 79\u001B[0m X \u001B[38;5;241m=\u001B[39m [MolFromSmiles(x) \u001B[38;5;28;01mif\u001B[39;00m \u001B[38;5;28mtype\u001B[39m(x) \u001B[38;5;241m==\u001B[39m \u001B[38;5;28mstr\u001B[39m \u001B[38;5;28;01melse\u001B[39;00m x \u001B[38;5;28;01mfor\u001B[39;00m x \u001B[38;5;129;01min\u001B[39;00m X]\n\u001B[0;32m     80\u001B[0m \u001B[38;5;28;01mreturn\u001B[39;00m X\n",
      "\u001B[1;31mKeyboardInterrupt\u001B[0m: "
     ]
    }
   ],
   "source": [
    "ERG_emf_times = [[\n",
    "    get_times_emf(ERGFingerprint, n_jobs=n_cores,sparse=sparse)\n",
    "    for n_cores in N_CORES\n",
    "]for sparse in SPARSE_TYPES]"
   ]
  },
  {
   "cell_type": "code",
   "execution_count": null,
   "id": "85a46228",
   "metadata": {
    "ExecuteTime": {
     "start_time": "2023-09-19T16:28:42.705684800Z"
    }
   },
   "outputs": [],
   "source": [
    "from rdkit.Chem.rdReducedGraphs import GetErGFingerprint\n",
    "\n",
    "ERG_rdkit_times = [get_times_rdkit(GetErGFingerprint,sparse=sparse) for sparse in SPARSE_TYPES]"
   ]
  },
  {
   "cell_type": "code",
   "execution_count": null,
   "id": "5de7b778",
   "metadata": {
    "ExecuteTime": {
     "start_time": "2023-09-19T16:28:42.705684800Z"
    }
   },
   "outputs": [],
   "source": [
    "for sparse, i in enumerate(SPARSE_TYPES):\n",
    "    plot_results(\n",
    "        ERG_emf_times[i],\n",
    "        ERG_rdkit_times[i],\n",
    "        \"ERG fingerprint\",\n",
    "        count=None,\n",
    "        sparse=sparse,\n",
    "    )"
   ]
  },
  {
   "cell_type": "code",
   "execution_count": 26,
   "outputs": [],
   "source": [],
   "metadata": {
    "collapsed": false,
    "ExecuteTime": {
     "end_time": "2023-09-19T16:24:22.025880700Z",
     "start_time": "2023-09-19T16:24:22.008878600Z"
    }
   },
   "id": "ce18961b9642437d"
  }
 ],
 "metadata": {
  "kernelspec": {
   "display_name": "Python 3 (ipykernel)",
   "language": "python",
   "name": "python3"
  },
  "language_info": {
   "codemirror_mode": {
    "name": "ipython",
    "version": 3
   },
   "file_extension": ".py",
   "mimetype": "text/x-python",
   "name": "python",
   "nbconvert_exporter": "python",
   "pygments_lexer": "ipython3",
   "version": "3.10.4"
  }
 },
 "nbformat": 4,
 "nbformat_minor": 5
}
